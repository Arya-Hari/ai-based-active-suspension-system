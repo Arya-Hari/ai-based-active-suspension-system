{
 "cells": [
  {
   "cell_type": "markdown",
   "metadata": {
    "id": "KvxG585T-zID"
   },
   "source": [
    "## Preparing the Environment"
   ]
  },
  {
   "cell_type": "code",
   "execution_count": 1,
   "metadata": {
    "execution": {
     "iopub.execute_input": "2025-06-08T04:47:10.090675Z",
     "iopub.status.busy": "2025-06-08T04:47:10.090348Z",
     "iopub.status.idle": "2025-06-08T04:47:22.669881Z",
     "shell.execute_reply": "2025-06-08T04:47:22.669027Z",
     "shell.execute_reply.started": "2025-06-08T04:47:10.090651Z"
    },
    "id": "3y31uz347dJf",
    "trusted": true
   },
   "outputs": [
    {
     "name": "stdout",
     "output_type": "stream",
     "text": [
      "\u001b[2K   \u001b[90m━━━━━━━━━━━━━━━━━━━━━━━━━━━━━━━━━━━━━━━━\u001b[0m \u001b[32m181.2/181.2 kB\u001b[0m \u001b[31m4.4 MB/s\u001b[0m eta \u001b[36m0:00:00\u001b[0ma \u001b[36m0:00:01\u001b[0m\n",
      "\u001b[2K   \u001b[90m━━━━━━━━━━━━━━━━━━━━━━━━━━━━━━━━━━━━━━━━\u001b[0m \u001b[32m863.2/863.2 kB\u001b[0m \u001b[31m12.1 MB/s\u001b[0m eta \u001b[36m0:00:00\u001b[0m00:01\u001b[0m0:01\u001b[0m\n",
      "\u001b[2K   \u001b[90m━━━━━━━━━━━━━━━━━━━━━━━━━━━━━━━━━━━━━━━━\u001b[0m \u001b[32m2.9/2.9 MB\u001b[0m \u001b[31m53.1 MB/s\u001b[0m eta \u001b[36m0:00:00\u001b[0m:00:01\u001b[0m\n",
      "\u001b[?25h"
     ]
    }
   ],
   "source": [
    "!pip install -U -q kaggle --quiet\n",
    "!pip install livelossplot --quiet\n",
    "!pip install hiplot --quiet"
   ]
  },
  {
   "cell_type": "code",
   "execution_count": 2,
   "metadata": {
    "execution": {
     "iopub.execute_input": "2025-06-08T04:47:25.883308Z",
     "iopub.status.busy": "2025-06-08T04:47:25.883011Z",
     "iopub.status.idle": "2025-06-08T04:47:27.294273Z",
     "shell.execute_reply": "2025-06-08T04:47:27.293656Z",
     "shell.execute_reply.started": "2025-06-08T04:47:25.883278Z"
    },
    "executionInfo": {
     "elapsed": 780,
     "status": "ok",
     "timestamp": 1613254865220,
     "user": {
      "displayName": "Jeferson Menegazzo",
      "photoUrl": "https://lh3.googleusercontent.com/a-/AOh14GhQawyEgOlmBHPaOoOT_loAbYF9XYcZK5PiYARmfg=s64",
      "userId": "12080988616245410525"
     },
     "user_tz": 180
    },
    "id": "ABO7X3mSxgSx",
    "trusted": true
   },
   "outputs": [],
   "source": [
    "import json\n",
    "import os\n",
    "import gc\n",
    "import shutil\n",
    "import time\n",
    "import random\n",
    "import requests\n",
    "import IPython\n",
    "import numpy as np\n",
    "import pandas as pd\n",
    "import hiplot as hip\n",
    "import seaborn as sns\n",
    "from requests.utils import requote_uri\n",
    "import matplotlib.pyplot as plt\n",
    "from zipfile import ZipFile\n",
    "from IPython.display import display\n",
    "from tqdm.notebook import tqdm\n",
    "from sklearn.preprocessing import MinMaxScaler, RobustScaler\n",
    "from sklearn.metrics import confusion_matrix, classification_report"
   ]
  },
  {
   "cell_type": "code",
   "execution_count": 3,
   "metadata": {
    "execution": {
     "iopub.execute_input": "2025-06-08T04:47:31.772957Z",
     "iopub.status.busy": "2025-06-08T04:47:31.772145Z",
     "iopub.status.idle": "2025-06-08T04:47:45.645287Z",
     "shell.execute_reply": "2025-06-08T04:47:45.644579Z",
     "shell.execute_reply.started": "2025-06-08T04:47:31.772929Z"
    },
    "executionInfo": {
     "elapsed": 857,
     "status": "ok",
     "timestamp": 1613254865556,
     "user": {
      "displayName": "Jeferson Menegazzo",
      "photoUrl": "https://lh3.googleusercontent.com/a-/AOh14GhQawyEgOlmBHPaOoOT_loAbYF9XYcZK5PiYARmfg=s64",
      "userId": "12080988616245410525"
     },
     "user_tz": 180
    },
    "id": "CjiwxS4MTN6Z",
    "trusted": true
   },
   "outputs": [
    {
     "name": "stderr",
     "output_type": "stream",
     "text": [
      "2025-06-08 04:47:33.416112: E external/local_xla/xla/stream_executor/cuda/cuda_fft.cc:477] Unable to register cuFFT factory: Attempting to register factory for plugin cuFFT when one has already been registered\n",
      "WARNING: All log messages before absl::InitializeLog() is called are written to STDERR\n",
      "E0000 00:00:1749358053.622927      35 cuda_dnn.cc:8310] Unable to register cuDNN factory: Attempting to register factory for plugin cuDNN when one has already been registered\n",
      "E0000 00:00:1749358053.680548      35 cuda_blas.cc:1418] Unable to register cuBLAS factory: Attempting to register factory for plugin cuBLAS when one has already been registered\n"
     ]
    }
   ],
   "source": [
    "import tensorflow as tf\n",
    "from tensorflow import keras\n",
    "from tensorflow.keras.models import Sequential\n",
    "from tensorflow.keras.callbacks import History, ModelCheckpoint, CSVLogger, EarlyStopping, Callback\n",
    "from tensorflow.keras.layers import GlobalMaxPooling1D, AveragePooling1D , Input, Activation, Dense, Dropout, SpatialDropout1D, Conv1D, TimeDistributed, MaxPooling1D, Flatten, ConvLSTM2D, Bidirectional, BatchNormalization, GlobalAvgPool1D, GlobalAveragePooling1D, MaxPooling1D, LSTM, GRU\n",
    "from tensorflow.keras.utils import plot_model\n",
    "from livelossplot import PlotLossesKerasTF"
   ]
  },
  {
   "cell_type": "code",
   "execution_count": 4,
   "metadata": {
    "execution": {
     "iopub.execute_input": "2025-06-08T04:49:12.949058Z",
     "iopub.status.busy": "2025-06-08T04:49:12.947956Z",
     "iopub.status.idle": "2025-06-08T04:49:12.969492Z",
     "shell.execute_reply": "2025-06-08T04:49:12.968661Z",
     "shell.execute_reply.started": "2025-06-08T04:49:12.949032Z"
    },
    "executionInfo": {
     "elapsed": 549,
     "status": "ok",
     "timestamp": 1613254866881,
     "user": {
      "displayName": "Jeferson Menegazzo",
      "photoUrl": "https://lh3.googleusercontent.com/a-/AOh14GhQawyEgOlmBHPaOoOT_loAbYF9XYcZK5PiYARmfg=s64",
      "userId": "12080988616245410525"
     },
     "user_tz": 180
    },
    "id": "OK0h6qZ2e5dN",
    "trusted": true
   },
   "outputs": [],
   "source": [
    "try:\n",
    "    import google.colab\n",
    "    IN_COLAB = True\n",
    "except:\n",
    "    IN_COLAB = False"
   ]
  },
  {
   "cell_type": "markdown",
   "metadata": {
    "id": "bS9NPFqwaSOK"
   },
   "source": [
    "Then we define the folders where the datasets and experiments are stored:"
   ]
  },
  {
   "cell_type": "code",
   "execution_count": 5,
   "metadata": {
    "execution": {
     "iopub.execute_input": "2025-06-08T04:49:17.307833Z",
     "iopub.status.busy": "2025-06-08T04:49:17.307197Z",
     "iopub.status.idle": "2025-06-08T04:49:17.312137Z",
     "shell.execute_reply": "2025-06-08T04:49:17.311195Z",
     "shell.execute_reply.started": "2025-06-08T04:49:17.307805Z"
    },
    "executionInfo": {
     "elapsed": 802,
     "status": "ok",
     "timestamp": 1613254898744,
     "user": {
      "displayName": "Jeferson Menegazzo",
      "photoUrl": "https://lh3.googleusercontent.com/a-/AOh14GhQawyEgOlmBHPaOoOT_loAbYF9XYcZK5PiYARmfg=s64",
      "userId": "12080988616245410525"
     },
     "user_tz": 180
    },
    "id": "Ogf5VVQGUTjL",
    "trusted": true
   },
   "outputs": [],
   "source": [
    "if IN_COLAB:\n",
    "    datasets_folder = './pvs-passive-vehicular-sensors-datasets/' # In Google Colab\n",
    "    experiments_folder = './experiments' # In Google Colab\n",
    "else:\n",
    "    datasets_folder = '../input/pvs-passive-vehicular-sensors-datasets/' # In Kaggle\n",
    "    experiments_folder = '/kaggle/working/experiments' # In Kaggle"
   ]
  },
  {
   "cell_type": "markdown",
   "metadata": {
    "id": "KWKWMPL9bciy"
   },
   "source": [
    "## Passive Vehicular Sensors Datasets (PVS)"
   ]
  },
  {
   "cell_type": "code",
   "execution_count": 9,
   "metadata": {
    "execution": {
     "iopub.execute_input": "2025-06-08T04:50:22.192819Z",
     "iopub.status.busy": "2025-06-08T04:50:22.192261Z",
     "iopub.status.idle": "2025-06-08T04:50:22.198425Z",
     "shell.execute_reply": "2025-06-08T04:50:22.197663Z",
     "shell.execute_reply.started": "2025-06-08T04:50:22.192797Z"
    },
    "executionInfo": {
     "elapsed": 794,
     "status": "ok",
     "timestamp": 1613255014684,
     "user": {
      "displayName": "Jeferson Menegazzo",
      "photoUrl": "https://lh3.googleusercontent.com/a-/AOh14GhQawyEgOlmBHPaOoOT_loAbYF9XYcZK5PiYARmfg=s64",
      "userId": "12080988616245410525"
     },
     "user_tz": 180
    },
    "id": "rIWGmAiWGEUL",
    "trusted": true
   },
   "outputs": [],
   "source": [
    "import os\n",
    "import pandas as pd\n",
    "\n",
    "def getDataSets(folder=\"/kaggle/input/pvs-passive-vehicular-sensors-datasets\"):\n",
    "    \"\"\"\n",
    "    Load raw datasets from the disk. Assumes datasets are already present in the given folder\n",
    "    (such as when using Kaggle Datasets).\n",
    "\n",
    "    Args:\n",
    "        folder (str): Root folder of PVS datasets. Within this root folder are the PVS folders and their files.\n",
    "\n",
    "    Returns:\n",
    "        dict: datasets in a dict form: \n",
    "        { \n",
    "            \"pvs_x\": { \n",
    "                \"left\": DataFrame, \n",
    "                \"right\": DataFrame, \n",
    "                \"labels\": DataFrame \n",
    "            } \n",
    "        }\n",
    "    \"\"\"\n",
    "\n",
    "    datasets = {}\n",
    "    \n",
    "    for i in range(1, 10):\n",
    "        dataset_folder = os.path.join(folder, f\"PVS {i}\")\n",
    "\n",
    "        left = pd.read_csv(os.path.join(dataset_folder, 'dataset_gps_mpu_left.csv'))\n",
    "        right = pd.read_csv(os.path.join(dataset_folder, 'dataset_gps_mpu_right.csv'))\n",
    "        labels = pd.read_csv(os.path.join(dataset_folder, 'dataset_labels.csv'), dtype=np.uint8)\n",
    "\n",
    "        datasets[f\"pvs_{i}\"] = {\n",
    "            \"left\": left,\n",
    "            \"right\": right,\n",
    "            \"labels\": labels\n",
    "        }\n",
    "    \n",
    "    return datasets\n"
   ]
  },
  {
   "cell_type": "code",
   "execution_count": 10,
   "metadata": {
    "execution": {
     "iopub.execute_input": "2025-06-08T04:50:26.063010Z",
     "iopub.status.busy": "2025-06-08T04:50:26.062438Z",
     "iopub.status.idle": "2025-06-08T04:50:53.598836Z",
     "shell.execute_reply": "2025-06-08T04:50:53.598174Z",
     "shell.execute_reply.started": "2025-06-08T04:50:26.062985Z"
    },
    "executionInfo": {
     "elapsed": 14099,
     "status": "ok",
     "timestamp": 1613255027993,
     "user": {
      "displayName": "Jeferson Menegazzo",
      "photoUrl": "https://lh3.googleusercontent.com/a-/AOh14GhQawyEgOlmBHPaOoOT_loAbYF9XYcZK5PiYARmfg=s64",
      "userId": "12080988616245410525"
     },
     "user_tz": 180
    },
    "id": "TpKqvn5tVZB8",
    "trusted": true
   },
   "outputs": [],
   "source": [
    "# Loads Datasets\n",
    "datasets = getDataSets()"
   ]
  },
  {
   "cell_type": "markdown",
   "metadata": {
    "id": "ST0eRKDaGRhY"
   },
   "source": [
    "## Pre-Processing"
   ]
  },
  {
   "cell_type": "code",
   "execution_count": 11,
   "metadata": {
    "execution": {
     "iopub.execute_input": "2025-06-08T04:53:32.727405Z",
     "iopub.status.busy": "2025-06-08T04:53:32.727025Z",
     "iopub.status.idle": "2025-06-08T04:53:32.732059Z",
     "shell.execute_reply": "2025-06-08T04:53:32.731067Z",
     "shell.execute_reply.started": "2025-06-08T04:53:32.727362Z"
    },
    "executionInfo": {
     "elapsed": 5762,
     "status": "ok",
     "timestamp": 1613255027994,
     "user": {
      "displayName": "Jeferson Menegazzo",
      "photoUrl": "https://lh3.googleusercontent.com/a-/AOh14GhQawyEgOlmBHPaOoOT_loAbYF9XYcZK5PiYARmfg=s64",
      "userId": "12080988616245410525"
     },
     "user_tz": 180
    },
    "id": "1690g5LvPCYF",
    "trusted": true
   },
   "outputs": [],
   "source": [
    "# Road surface type data classes\n",
    "data_class_labels = [\"dirt_road\", \"cobblestone_road\", \"asphalt_road\"]"
   ]
  },
  {
   "cell_type": "code",
   "execution_count": 12,
   "metadata": {
    "execution": {
     "iopub.execute_input": "2025-06-08T04:53:35.240802Z",
     "iopub.status.busy": "2025-06-08T04:53:35.240536Z",
     "iopub.status.idle": "2025-06-08T04:53:35.261309Z",
     "shell.execute_reply": "2025-06-08T04:53:35.260296Z",
     "shell.execute_reply.started": "2025-06-08T04:53:35.240785Z"
    },
    "executionInfo": {
     "elapsed": 5760,
     "status": "ok",
     "timestamp": 1613255027994,
     "user": {
      "displayName": "Jeferson Menegazzo",
      "photoUrl": "https://lh3.googleusercontent.com/a-/AOh14GhQawyEgOlmBHPaOoOT_loAbYF9XYcZK5PiYARmfg=s64",
      "userId": "12080988616245410525"
     },
     "user_tz": 180
    },
    "id": "H9wqxz2NGUZF",
    "trusted": true
   },
   "outputs": [],
   "source": [
    "def getFields(acc=False, gyro=False, mag=False, temp=False, speed=False, location=False, below_suspension=False, above_suspension=False, dashboard=False):\n",
    "    \n",
    "    \"\"\"Get fields names filtering by data type and placement.\n",
    "\n",
    "    Args:\n",
    "        acc (bool): to return accelerometer fields.\n",
    "            (default is False)\n",
    "        gyro (bool): to return gyroscope fields.\n",
    "            (default is False)\n",
    "        mag (bool): to return magnetometer fields.\n",
    "            (default is False)\n",
    "        temp (bool): to return temperature field.\n",
    "            (default is False)\n",
    "        speed (bool): to return speed field.\n",
    "            (default is False)\n",
    "        location (bool): to return GPS location fields.\n",
    "            (default is False)\n",
    "        below_suspension (bool): to return fields of data sampled next and below suspension.\n",
    "            (default is False)\n",
    "        above_suspension (bool): to return fields of data sampled next and above suspension.\n",
    "            (default is False)\n",
    "        dashboard (bool): to return fields of data sampled in the dashboard.\n",
    "            (default is False)\n",
    "\n",
    "    Returns:\n",
    "        list: list of fields.\n",
    "    \"\"\"\n",
    "\n",
    "    all_fields = [\n",
    "        'timestamp', \n",
    "        'acc_x_dashboard', 'acc_y_dashboard', 'acc_z_dashboard',\n",
    "        'acc_x_above_suspension', 'acc_y_above_suspension', 'acc_z_above_suspension', \n",
    "        'acc_x_below_suspension', 'acc_y_below_suspension', 'acc_z_below_suspension', \n",
    "        'gyro_x_dashboard', 'gyro_y_dashboard', 'gyro_z_dashboard', \n",
    "        'gyro_x_above_suspension', 'gyro_y_above_suspension', 'gyro_z_above_suspension',\n",
    "        'gyro_x_below_suspension', 'gyro_y_below_suspension', 'gyro_z_below_suspension', \n",
    "        'mag_x_dashboard', 'mag_y_dashboard', 'mag_z_dashboard', \n",
    "        'mag_x_above_suspension', 'mag_y_above_suspension', 'mag_z_above_suspension', \n",
    "        'temp_dashboard', 'temp_above_suspension', 'temp_below_suspension', \n",
    "        'timestamp_gps', 'latitude', 'longitude', 'speed'\n",
    "    ]\n",
    "    \n",
    "    return_fields = []\n",
    "    \n",
    "    for field in all_fields:\n",
    "            \n",
    "        data_type = False\n",
    "        placement = False\n",
    "        \n",
    "        if (speed and field == \"speed\"):\n",
    "            placement = data_type = True\n",
    "            \n",
    "        if (location and (field == \"latitude\" or field == \"longitude\")):\n",
    "            placement = data_type = True\n",
    "        \n",
    "        if (acc):\n",
    "            data_type = data_type or field.startswith(\"acc_\")\n",
    "        \n",
    "        if (gyro):\n",
    "            data_type = data_type or field.startswith(\"gyro_\")\n",
    "            \n",
    "        if (mag):\n",
    "            data_type = data_type or field.startswith(\"mag_\")\n",
    "            \n",
    "        if (temp):\n",
    "            data_type = data_type or field.startswith(\"temp_\")\n",
    "            \n",
    "        if (below_suspension):\n",
    "            placement = placement or field.endswith(\"_below_suspension\")\n",
    "            \n",
    "        if (above_suspension):\n",
    "            placement = placement or field.endswith(\"_above_suspension\")\n",
    "            \n",
    "        if (dashboard):\n",
    "            placement = placement or field.endswith(\"_dashboard\")\n",
    "        \n",
    "        if (data_type and placement):\n",
    "            return_fields.append(field)\n",
    "            \n",
    "    return return_fields\n",
    "\n",
    "def getSubSets(datasets, fields, labels=data_class_labels):\n",
    "\n",
    "    \"\"\"Get subsets from raw datasets. For each PVS dataset, extract a subset with only fields/labels passed.\n",
    "\n",
    "    Args:\n",
    "        datasets (dict): raw PVS datasets.\n",
    "        fields (string[]): fields to extract.\n",
    "        labels (string[]): labels to extract.\n",
    "\n",
    "    Returns:\n",
    "        dict: subsets in dict form:\n",
    "        { \n",
    "            \"pvs_x\": { \n",
    "                \"left\": DataFrame, \n",
    "                \"right\": DataFrame, \n",
    "                \"labels\": DataFrame \n",
    "            } \n",
    "        }\n",
    "    \"\"\"\n",
    "\n",
    "    subsets = {}\n",
    "    \n",
    "    for key in datasets.keys():\n",
    "        \n",
    "        subsets[key] = {\n",
    "            \"left\": datasets[key][\"left\"][fields],\n",
    "            \"right\": datasets[key][\"right\"][fields],\n",
    "            \"labels\": datasets[key][\"labels\"][labels]\n",
    "        }\n",
    "    \n",
    "    return subsets\n",
    "\n",
    "def getNormalizedDataMinMax(subsets, scaler_range=(-1,1)):\n",
    "\n",
    "    \"\"\"Get normalized data. Uses MinMaxScaler.\n",
    "\n",
    "    Args:\n",
    "        subsets (dict): subsets to be normalized.\n",
    "        scaler_range (tuple): range to scale, such as (0,1) or (-1,1).\n",
    "\n",
    "    Returns:\n",
    "        dict: subsets normalized in dict form:\n",
    "        { \n",
    "            \"pvs_x\": { \n",
    "                \"left\": DataFrame, \n",
    "                \"right\": DataFrame, \n",
    "                \"labels\": DataFrame,\n",
    "            } \n",
    "        }\n",
    "    \"\"\"\n",
    "\n",
    "    scaler = MinMaxScaler(feature_range=scaler_range)\n",
    "    return getNormalizedData(subsets, scaler)\n",
    "\n",
    "def getNormalizedDataRobust(subsets): \n",
    "\n",
    "    \"\"\"Get standardized data. Uses RobustScaler.\n",
    "\n",
    "    Args:\n",
    "        subsets (dict): subsets to be standardized.\n",
    "\n",
    "    Returns:\n",
    "        dict: subsets normalized in dict form:\n",
    "        { \n",
    "            \"pvs_x\": { \n",
    "                \"left\": DataFrame, \n",
    "                \"right\": DataFrame, \n",
    "                \"labels\": DataFrame\n",
    "            } \n",
    "        }\n",
    "    \"\"\"\n",
    "\n",
    "    scaler = RobustScaler()            \n",
    "    return getNormalizedData(subsets, scaler)\n",
    "\n",
    "def getNormalizedData(subsets, scaler):\n",
    "    \"\"\"Get standardized/normalized data.\n",
    "\n",
    "    Args:\n",
    "        subsets (dict): subsets to be standardized/normalized.\n",
    "        scaler (object): scaler to transform values.\n",
    "\n",
    "    Returns:\n",
    "        dict: subsets normalized in dict form:\n",
    "        { \n",
    "            \"pvs_x\": { \n",
    "                \"left\": DataFrame, \n",
    "                \"right\": DataFrame, \n",
    "                \"labels\": DataFrame\n",
    "            } \n",
    "        }\n",
    "    \"\"\"\n",
    "    \n",
    "    normalized_sets = {}\n",
    "    all_data = []\n",
    "\n",
    "    for pvs in subsets.keys():\n",
    "        for side in [\"left\", \"right\"]:\n",
    "            all_data.append(subsets[pvs][side])\n",
    "\n",
    "    learn_data = pd.concat(all_data, ignore_index=True)\n",
    "\n",
    "    scaler = scaler.fit(learn_data)\n",
    "    del learn_data\n",
    "    \n",
    "    for pvs in subsets.keys():\n",
    "        normalized_sets[pvs] = {\n",
    "            'left':  pd.DataFrame(data=scaler.transform(subsets[pvs]['left']),  columns=subsets[pvs]['left'].columns),\n",
    "            'right': pd.DataFrame(data=scaler.transform(subsets[pvs]['right']), columns=subsets[pvs]['right'].columns),\n",
    "            'labels': subsets[pvs]['labels']\n",
    "        }\n",
    "\n",
    "    return normalized_sets\n",
    "\n",
    "def getReshapedData(subsets, shape):  \n",
    "\n",
    "    \"\"\"Reshape data.\n",
    "\n",
    "    Args:\n",
    "        subsets (dict): subsets to be reshaped.\n",
    "        shape (tuple): shape to reshape data. Must have the form (..., ..., ..., features).\n",
    "\n",
    "    Returns:\n",
    "        dict: subsets reshaped in dict form:\n",
    "        { \n",
    "            \"pvs_x\": { \n",
    "                \"left\": np.array, \n",
    "                \"right\": np.array, \n",
    "                \"labels\": np.array\n",
    "            } \n",
    "        }\n",
    "        window: data window size\n",
    "    \"\"\"\n",
    "\n",
    "    shape = tuple([x for x in shape if x is not None])\n",
    "\n",
    "    reshaped_sets = {}\n",
    "\n",
    "    window = 1\n",
    "\n",
    "    for dim in shape:\n",
    "        window = window * dim\n",
    "\n",
    "    window = int(window / shape[-1])\n",
    "\n",
    "    for key in subsets.keys():\n",
    "\n",
    "        reshaped_sets[key] = {};\n",
    "\n",
    "        for side in ['left', 'right']:\n",
    "\n",
    "            inputs = subsets[key][side].values\n",
    "            outputs = subsets[key][\"labels\"].values\n",
    "  \n",
    "            inputs_reshaped = []\n",
    "            outputs_reshaped = []\n",
    "\n",
    "            for i in range(window, len(inputs) + 1):\n",
    "                \n",
    "                input_window = inputs[i-window:i, :]\n",
    "\n",
    "                if last_label:\n",
    "                    output_window = outputs[i-1, :]\n",
    "                else: # mode label\n",
    "                    output_window = outputs[i-window:i, :].mean(axis=0).round(0)\n",
    "\n",
    "                if moving_window or i % window == 0:\n",
    "                    inputs_reshaped.append(input_window.reshape(shape))\n",
    "                    outputs_reshaped.append(output_window) \n",
    "\n",
    "            reshaped_sets[key][side] = np.array(inputs_reshaped) # inputs_reshaped\n",
    "            reshaped_sets[key]['labels'] = np.array(outputs_reshaped) # outputs_reshaped\n",
    "            del inputs_reshaped, outputs_reshaped\n",
    "\n",
    "    return reshaped_sets, window\n",
    "\n",
    "def getTrainValidationSets(reshaped_sets, sets_train, sets_test, sides_train, sides_test):\n",
    "\n",
    "    \"\"\"Get train and test sets from pre-processed sets.\n",
    "\n",
    "    Args:\n",
    "        reshaped_sets (dict): all pre-processed sets.\n",
    "        sets_train (string[]): PVS datasets to be used in train.\n",
    "        sets_test (string[]): PVS datasets to be used in validation.\n",
    "        sides_train (string[]): PVS datasets sides to be used in train. \n",
    "        sides_test (string[]): PVS datasets sides to be used in validation. \n",
    "\n",
    "    Returns:\n",
    "        input_train (list|np.array): input train values.\n",
    "        input_validation (list|np.array): input validation values. \n",
    "        output_train (list|np.array): output train values.\n",
    "        output_validation (list|np.array): output validation values. \n",
    "    \"\"\"\n",
    "\n",
    "    input_train = []\n",
    "    input_validation = []\n",
    "    output_train = []\n",
    "    output_validation = []\n",
    "\n",
    "    for key in reshaped_sets.keys():\n",
    "\n",
    "        for side in [\"left\", \"right\"]:\n",
    "\n",
    "            input_ref = None\n",
    "            output_ref = None\n",
    "                \n",
    "            if (key in sets_train and side in sides_train):\n",
    "                input_ref = input_train\n",
    "                output_ref = output_train\n",
    "            \n",
    "            elif (key in sets_test and side in sides_test):\n",
    "                input_ref = input_validation\n",
    "                output_ref = output_validation\n",
    "            \n",
    "            inputs = reshaped_sets[key][side]\n",
    "            outputs = reshaped_sets[key][\"labels\"]\n",
    "\n",
    "            if input_ref is not None:\n",
    "                for inp in inputs:\n",
    "                    input_ref.append(inp)\n",
    "\n",
    "            if output_ref is not None:\n",
    "                for out in outputs:\n",
    "                    output_ref.append(out)\n",
    "\n",
    "    return np.array(input_train), np.array(input_validation), np.array(output_train), np.array(output_validation) # input_train, input_validation, output_train, output_validation"
   ]
  },
  {
   "cell_type": "markdown",
   "metadata": {
    "id": "5ayu4OW5GV2S"
   },
   "source": [
    "## Processing"
   ]
  },
  {
   "cell_type": "code",
   "execution_count": 13,
   "metadata": {
    "execution": {
     "iopub.execute_input": "2025-06-08T04:53:45.271951Z",
     "iopub.status.busy": "2025-06-08T04:53:45.271639Z",
     "iopub.status.idle": "2025-06-08T04:53:45.276670Z",
     "shell.execute_reply": "2025-06-08T04:53:45.275913Z",
     "shell.execute_reply.started": "2025-06-08T04:53:45.271929Z"
    },
    "executionInfo": {
     "elapsed": 1169,
     "status": "ok",
     "timestamp": 1613255029994,
     "user": {
      "displayName": "Jeferson Menegazzo",
      "photoUrl": "https://lh3.googleusercontent.com/a-/AOh14GhQawyEgOlmBHPaOoOT_loAbYF9XYcZK5PiYARmfg=s64",
      "userId": "12080988616245410525"
     },
     "user_tz": 180
    },
    "id": "wz80d2lNrV6j",
    "trusted": true
   },
   "outputs": [],
   "source": [
    "experiment_by_placement = [\n",
    "    (\"Below Suspension\", getFields(acc=True, gyro=True, speed=True, below_suspension=True)),\n",
    "    (\"Above Suspension\", getFields(acc=True, gyro=True, speed=True, above_suspension=True)),\n",
    "    (\"Dashboard\",        getFields(acc=True, gyro=True, speed=True, dashboard=True))\n",
    "]"
   ]
  },
  {
   "cell_type": "code",
   "execution_count": 14,
   "metadata": {
    "execution": {
     "iopub.execute_input": "2025-06-08T04:53:48.410304Z",
     "iopub.status.busy": "2025-06-08T04:53:48.409997Z",
     "iopub.status.idle": "2025-06-08T04:53:48.416414Z",
     "shell.execute_reply": "2025-06-08T04:53:48.415379Z",
     "shell.execute_reply.started": "2025-06-08T04:53:48.410284Z"
    },
    "executionInfo": {
     "elapsed": 1167,
     "status": "ok",
     "timestamp": 1613255029995,
     "user": {
      "displayName": "Jeferson Menegazzo",
      "photoUrl": "https://lh3.googleusercontent.com/a-/AOh14GhQawyEgOlmBHPaOoOT_loAbYF9XYcZK5PiYARmfg=s64",
      "userId": "12080988616245410525"
     },
     "user_tz": 180
    },
    "id": "_UjTfN2yGT4T",
    "trusted": true
   },
   "outputs": [],
   "source": [
    "experiment_by_dataset = [\n",
    "    { \n",
    "        \"sets_train\": [\"pvs_1\", \"pvs_3\", \"pvs_4\", \"pvs_6\", \"pvs_7\", \"pvs_9\"], \n",
    "        \"sets_test\": [\"pvs_2\", \"pvs_5\", \"pvs_8\"],\n",
    "        \"sides_train\": [\"left\", \"right\"],\n",
    "        \"sides_test\": [\"left\", \"right\"]\n",
    "    },\n",
    "    { \n",
    "        \"sets_train\": [\"pvs_1\", \"pvs_2\", \"pvs_3\", \"pvs_7\", \"pvs_8\", \"pvs_9\"], \n",
    "        \"sets_test\":  [\"pvs_4\", \"pvs_5\", \"pvs_6\"],\n",
    "        \"sides_train\": [\"left\", \"right\"],\n",
    "        \"sides_test\": [\"left\", \"right\"]\n",
    "    },\n",
    "    { \n",
    "        \"sets_train\": [\"pvs_1\", \"pvs_2\", \"pvs_4\", \"pvs_6\", \"pvs_8\", \"pvs_9\"], \n",
    "        \"sets_test\":  [\"pvs_3\", \"pvs_5\", \"pvs_7\"],\n",
    "        \"sides_train\": [\"left\", \"right\"],\n",
    "        \"sides_test\": [\"left\", \"right\"]\n",
    "    }\n",
    "]"
   ]
  },
  {
   "cell_type": "code",
   "execution_count": 15,
   "metadata": {
    "execution": {
     "iopub.execute_input": "2025-06-08T04:53:51.588181Z",
     "iopub.status.busy": "2025-06-08T04:53:51.587864Z",
     "iopub.status.idle": "2025-06-08T04:53:51.592728Z",
     "shell.execute_reply": "2025-06-08T04:53:51.591605Z",
     "shell.execute_reply.started": "2025-06-08T04:53:51.588162Z"
    },
    "executionInfo": {
     "elapsed": 1165,
     "status": "ok",
     "timestamp": 1613255029996,
     "user": {
      "displayName": "Jeferson Menegazzo",
      "photoUrl": "https://lh3.googleusercontent.com/a-/AOh14GhQawyEgOlmBHPaOoOT_loAbYF9XYcZK5PiYARmfg=s64",
      "userId": "12080988616245410525"
     },
     "user_tz": 180
    },
    "id": "IU1YgK1px1RG",
    "trusted": true
   },
   "outputs": [],
   "source": [
    "# (batches, window size, features)\n",
    "input_shapes = [\n",
    "    (None, 100, 7), # Window with 100 samples\n",
    "    (None, 200, 7), # Window with 200 samples\n",
    "    (None, 300, 7), # Window with 300 samples\n",
    "    (None, 400, 7), # Window with 400 samples\n",
    "    (None, 500, 7)  # Window with 500 samples\n",
    "]"
   ]
  },
  {
   "cell_type": "code",
   "execution_count": 16,
   "metadata": {
    "execution": {
     "iopub.execute_input": "2025-06-08T04:53:55.103520Z",
     "iopub.status.busy": "2025-06-08T04:53:55.103147Z",
     "iopub.status.idle": "2025-06-08T04:53:55.114478Z",
     "shell.execute_reply": "2025-06-08T04:53:55.113428Z",
     "shell.execute_reply.started": "2025-06-08T04:53:55.103496Z"
    },
    "executionInfo": {
     "elapsed": 1164,
     "status": "ok",
     "timestamp": 1613255029997,
     "user": {
      "displayName": "Jeferson Menegazzo",
      "photoUrl": "https://lh3.googleusercontent.com/a-/AOh14GhQawyEgOlmBHPaOoOT_loAbYF9XYcZK5PiYARmfg=s64",
      "userId": "12080988616245410525"
     },
     "user_tz": 180
    },
    "id": "o5HAH_jtTaFh",
    "trusted": true
   },
   "outputs": [],
   "source": [
    "class ClearTrainingOutput(Callback):\n",
    "\n",
    "    \"\"\"Clear the output at the end of the training.\n",
    "    \"\"\"\n",
    "        \n",
    "    def on_train_end(*args, **kwargs):\n",
    "        IPython.display.clear_output(wait = True)\n",
    "\n",
    "def createPathIfNotExists(path):\n",
    "\n",
    "    \"\"\"Creates the path if it does not exist.\n",
    "\n",
    "    Args:\n",
    "      path: the path.\n",
    "    \"\"\"\n",
    "\n",
    "    if not os.path.exists(path):\n",
    "        os.makedirs(path)\n",
    "\n",
    "def modelFileSavedFormat(filename):\n",
    "\n",
    "    \"\"\"Sets the file name pattern to save the best model/weights.\n",
    "\n",
    "    Args:\n",
    "      filename: the prefix for the file name.\n",
    "\n",
    "    Returns:\n",
    "      File name pattern.\n",
    "    \"\"\"\n",
    "\n",
    "    return filename + '-train-acc-{acc:.5f}-val-acc-{val_acc:.5f}.hdf5'\n",
    "\n",
    "def saveModelDiagram(model, path, filename, show=True):\n",
    "\n",
    "    \"\"\"Save the diagram with the model in PNG file.\n",
    "\n",
    "    Args:\n",
    "      model: tensorflow model.\n",
    "      path: location to save the file.\n",
    "      filename: file name.\n",
    "      show: shows the diagram on the notebook.\n",
    "\n",
    "    \"\"\"\n",
    "    \n",
    "    createPathIfNotExists(path)\n",
    "    plot_model(model, to_file=os.path.join(path, filename + '.png'), show_shapes=True, show_layer_names=True)\n",
    "\n",
    "    if show:\n",
    "        display(plot_model(model, show_shapes=True, show_layer_names=True))\n",
    "        display(model.summary())\n",
    "    \n",
    "def showHistory(history):\n",
    "\n",
    "    \"\"\"Creates a chart with the model's metrics.\n",
    "\n",
    "    Args:\n",
    "      history: tensorflow training history.\n",
    "    \"\"\"\n",
    "    \n",
    "    for key in history.history.keys():\n",
    "        plt.plot(history.history[key], label=key)\n",
    "    \n",
    "    plt.legend()\n",
    "    \n",
    "def fitModel(model, input_train, output_train, input_validation, output_validation, experiment_path, file_preffix):\n",
    "    \n",
    "    \"\"\"Trains the given model. During the training, it shows a graph of the evaluation metrics, makes a checkpoint \n",
    "    when the model reaches the best validation accuracy value and defines early stoping, to stop the training when \n",
    "    the model does not progress more than 'min_delta' during 'patience' times.\n",
    "\n",
    "    Args:\n",
    "      model: tensorflow model.\n",
    "      input_train: input data for training.\n",
    "      output_train: output data for training.\n",
    "      input_validation: input data for validation.\n",
    "      output_validation: output data for validation.\n",
    "      experiment_path: location to save the diagrams and models/weights.\n",
    "      file_preffix: prefix of diagram and model files.\n",
    "\n",
    "    Returns:\n",
    "      The model.\n",
    "    \"\"\"\n",
    "\n",
    "    createPathIfNotExists(experiment_path)\n",
    "\n",
    "    # logger_file = os.path.join(experiment_path, file_preffix + '-training-log.csv')\n",
    "    # csv_logger = CSVLogger(logger_file, append=True)\n",
    "\n",
    "    checkpoint_validation_file = os.path.join(experiment_path,modelFileSavedFormat(file_preffix).replace(\".hdf5\", \".keras\"))\n",
    "    checkpoint_validation = ModelCheckpoint(filepath=checkpoint_validation_file, save_best_only=True, monitor='val_acc', mode='max') # verbose=1\n",
    "    \n",
    "    early_stopping = EarlyStopping(monitor=\"val_acc\", mode=\"max\", patience=patience, min_delta=min_delta, restore_best_weights=True, verbose=1)\n",
    "\n",
    "    callbacks=[PlotLossesKerasTF(), checkpoint_validation, early_stopping, ClearTrainingOutput()] # csv_logger\n",
    "\n",
    "    return model.fit(\n",
    "        input_train, output_train, validation_data=(input_validation, output_validation), \n",
    "        epochs=epochs, batch_size=batch_size, validation_batch_size=batch_size, \n",
    "        callbacks=callbacks, shuffle=shuffle, verbose=0) # verbose=1\n",
    "\n",
    "def predictModel(model, inputs):\n",
    "\n",
    "    \"\"\"Predicts model outputs based on inputs given.\n",
    "\n",
    "    Args:\n",
    "      model: tensorflow model.\n",
    "      inputs: input data.\n",
    "\n",
    "    Returns:\n",
    "      Output data.\n",
    "    \"\"\"\n",
    "\n",
    "    return model.predict(inputs)\n",
    "    \n",
    "def evaluateModel(model, inputs, outputs):\n",
    "\n",
    "    \"\"\"Evaluates the model based on the given inputs and expected outputs.\n",
    "\n",
    "    Args:\n",
    "      model: tensorflow model.\n",
    "      inputs: input data.\n",
    "      outputs: expected outputs.\n",
    "\n",
    "    Returns:\n",
    "      Evaluation metrics.\n",
    "    \"\"\"\n",
    "\n",
    "    return model.evaluate(inputs, outputs, batch_size=batch_size, verbose=0)\n",
    "    \n",
    "def loadWeights(model, file_path):\n",
    "    \n",
    "    \"\"\"Load weights saved in the given model.\n",
    "\n",
    "    Args:\n",
    "      model: tensorflow model.\n",
    "      file_path: file with the saved weights.\n",
    "    \"\"\"\n",
    "    model.load_weights(file_path)"
   ]
  },
  {
   "cell_type": "code",
   "execution_count": 17,
   "metadata": {
    "execution": {
     "iopub.execute_input": "2025-06-08T04:54:00.608525Z",
     "iopub.status.busy": "2025-06-08T04:54:00.608186Z",
     "iopub.status.idle": "2025-06-08T04:54:00.626698Z",
     "shell.execute_reply": "2025-06-08T04:54:00.625666Z",
     "shell.execute_reply.started": "2025-06-08T04:54:00.608504Z"
    },
    "executionInfo": {
     "elapsed": 1162,
     "status": "ok",
     "timestamp": 1613255029998,
     "user": {
      "displayName": "Jeferson Menegazzo",
      "photoUrl": "https://lh3.googleusercontent.com/a-/AOh14GhQawyEgOlmBHPaOoOT_loAbYF9XYcZK5PiYARmfg=s64",
      "userId": "12080988616245410525"
     },
     "user_tz": 180
    },
    "id": "1WMT3WViX_Yv",
    "trusted": true
   },
   "outputs": [],
   "source": [
    "def saveExecutionLog(path, data, columns=['placement', 'experiment', \"window\", \"scaler\", \"input_shape\", \"output_shape\", \"train_loss\", \"val_loss\", \"train_acc\", \"val_acc\"]):\n",
    "    \n",
    "    \"\"\" Save a log for each experiment execution (params for each execution)\n",
    "    \"\"\"\n",
    "    \n",
    "    save = pd.DataFrame(data=data, columns=columns)\n",
    "    save.to_csv(os.path.join(path, \"experiment-execution-log.csv\"), index=False)\n",
    "\n",
    "def manageFiles(history, experiment_folder, experiment_file):\n",
    "\n",
    "    \"\"\" Retrieve best model from num_tests executions\n",
    "    \"\"\"\n",
    "\n",
    "    test = -1\n",
    "    index = -1\n",
    "    val_acc = -1\n",
    "    \n",
    "    for i in range(0, num_tests):\n",
    "\n",
    "        max_value = max(history[i]['val_acc'])\n",
    "\n",
    "        if max_value > val_acc:\n",
    "            val_acc = max_value\n",
    "            test = i\n",
    "            index = history[i]['val_acc'].index(max_value)\n",
    "            \n",
    "    train_acc = history[test]['acc'][index]\n",
    "    train_loss = history[test]['loss'][index]\n",
    "    val_acc = history[test]['val_acc'][index]\n",
    "    val_loss = history[test]['val_loss'][index]\n",
    "    \n",
    "    test_folder = os.path.join(experiment_folder, \"Test \" + str(test + 1)) \n",
    "    # Automatically detect the saved file for the best model\n",
    "    expected_prefix = modelFileSavedFormat(experiment_file).split(\"{\")[0]  # Everything before the first '{'\n",
    "    files_in_test_folder = os.listdir(test_folder)\n",
    "    \n",
    "    # Search for file starting with expected prefix and ending in '.keras'\n",
    "    file = next((f for f in files_in_test_folder if f.startswith(expected_prefix) and f.endswith(\".keras\")), None)\n",
    "    \n",
    "    if file is None:\n",
    "        raise FileNotFoundError(f\"No .keras file found in {test_folder} with prefix {expected_prefix}\")\n",
    "\n",
    "\n",
    "    move_from = os.path.join(test_folder, file)\n",
    "    move_to = os.path.join(experiment_folder, file)\n",
    "\n",
    "    shutil.move(move_from, move_to)\n",
    "    \n",
    "    for i in range(0,num_tests):\n",
    "        shutil.rmtree(os.path.join(experiment_folder, \"Test \" + str(i + 1)))\n",
    "\n",
    "    return [train_loss, val_loss, train_acc, val_acc]\n",
    "\n",
    "def getLoadBar():\n",
    "\n",
    "    \"\"\" Load bar for experiments progress\n",
    "    \"\"\"\n",
    "    \n",
    "    global load_bar_placement, load_bar_dataset, load_bar_input_shape, load_bar_retries\n",
    "    \n",
    "    experiment_total_placement = len(experiment_by_placement)\n",
    "    experiment_total_dataset = len(experiment_by_dataset)\n",
    "    experiment_total_input_shapes = len(input_shapes)\n",
    "    \n",
    "    load_bar_placement = tqdm(total=experiment_total_placement, desc='Experiment By Placement')\n",
    "    load_bar_dataset = tqdm(total=experiment_total_dataset, desc='Experiment By Dataset')\n",
    "    load_bar_input_shape = tqdm(total=experiment_total_input_shapes, desc='Experiment By Input Shape')\n",
    "    load_bar_retries = tqdm(total=num_tests, desc='Retries')\n",
    "\n",
    "def run(modelBuilder, modelParameters):\n",
    "\n",
    "    \"\"\" Run all experiments.\n",
    "    \"\"\"\n",
    "\n",
    "    load_bar_placement.reset()\n",
    "    experiment_sequence = 0\n",
    "\n",
    "    for placement, fields in experiment_by_placement:\n",
    "\n",
    "        load_bar_dataset.reset()\n",
    "        subsets = getSubSets(datasets.copy(), fields)\n",
    "        normalized_sets = getNormalizedDataMinMax(subsets, (-1,1)) # getNormalizedDataRobust(subsets) \n",
    "        \n",
    "        # Clean Memory\n",
    "        del subsets\n",
    "        gc.collect()\n",
    "\n",
    "        for experiment_number in range(0, len(experiment_by_dataset)):\n",
    "\n",
    "            experiment_sequence += 1\n",
    "\n",
    "            if (experiment_sequence > last_experiment_sequence):\n",
    "\n",
    "                load_bar_input_shape.reset()\n",
    "                sets_train = experiment_by_dataset[experiment_number]['sets_train']\n",
    "                sets_test = experiment_by_dataset[experiment_number]['sets_test']\n",
    "                sides_train = experiment_by_dataset[experiment_number]['sides_train']\n",
    "                sides_test = experiment_by_dataset[experiment_number]['sides_test']\n",
    "                execution_log = []\n",
    "\n",
    "                for input_shape in input_shapes:\n",
    "\n",
    "                    load_bar_retries.reset()\n",
    "                    history = []\n",
    "                    model_args = modelParameters(input_shape, output_shape)\n",
    "\n",
    "                    reshaped_sets, window_size = getReshapedData(normalized_sets.copy(), input_shape)\n",
    "                    input_train, input_validation, output_train, output_validation = getTrainValidationSets(reshaped_sets, sets_train, sets_test, sides_train, sides_test)\n",
    "                    \n",
    "                    # Clean Memory\n",
    "                    del reshaped_sets\n",
    "                    gc.collect()\n",
    "\n",
    "                    print(\"Input Train Shape:\", input_train.shape, \"Output Train Shape:\", output_train.shape)\n",
    "                    print(\"Input Test Shape:\", input_validation.shape, \"Output Test Shape:\", output_validation.shape)\n",
    "\n",
    "                    for test in range(0, num_tests):\n",
    "\n",
    "                        model, model_name = modelBuilder(**model_args)\n",
    "                        experiment_folder = os.path.join(experiments_folder, model_name, placement, \"Dataset Experiment \" + str(experiment_number + 1))\n",
    "                        test_folder = os.path.join(experiment_folder, \"Test \" + str(test + 1))\n",
    "                        diagram_file = \"dataset-experiment-\" + str(experiment_number + 1) + \"-window-\" + str(window_size)\n",
    "                        experiment_file = diagram_file + \"-robust-scaler\"\n",
    "                        saveModelDiagram(model, experiment_folder, diagram_file)\n",
    "                        fit_history = fitModel(model, input_train, output_train, input_validation, output_validation, test_folder, experiment_file)\n",
    "                        history.append(fit_history.history)\n",
    "                        load_bar_retries.update(1)\n",
    "\n",
    "                        # Clean Memory\n",
    "                        del model, fit_history\n",
    "                        gc.collect()\n",
    "\n",
    "                    metrics = manageFiles(history, experiment_folder, experiment_file)\n",
    "                    \n",
    "                    execution_log.append([\n",
    "                        placement,\n",
    "                        experiment_number + 1, \n",
    "                        window_size, \n",
    "                        \"Robust Scaler\", \n",
    "                        str(input_shape), \n",
    "                        str(output_shape)\n",
    "                    ] + metrics)\n",
    "\n",
    "                    saveExecutionLog(experiment_folder, execution_log)\n",
    "                    load_bar_input_shape.update(1)\n",
    "\n",
    "                    # Clean Memory\n",
    "                    del history, input_train, input_validation, output_train, output_validation, metrics\n",
    "                    gc.collect()\n",
    "                    time.sleep(5)\n",
    "\n",
    "            load_bar_dataset.update(1)       \n",
    "        \n",
    "        # Clean Memory\n",
    "        del normalized_sets\n",
    "        load_bar_placement.update(1)"
   ]
  },
  {
   "cell_type": "markdown",
   "metadata": {
    "id": "PQgQ8sHhV1BF"
   },
   "source": [
    "## Result Analysis"
   ]
  },
  {
   "cell_type": "code",
   "execution_count": 18,
   "metadata": {
    "execution": {
     "iopub.execute_input": "2025-06-08T04:54:07.380006Z",
     "iopub.status.busy": "2025-06-08T04:54:07.379436Z",
     "iopub.status.idle": "2025-06-08T04:54:07.384109Z",
     "shell.execute_reply": "2025-06-08T04:54:07.383108Z",
     "shell.execute_reply.started": "2025-06-08T04:54:07.379971Z"
    },
    "executionInfo": {
     "elapsed": 809,
     "status": "ok",
     "timestamp": 1613255035043,
     "user": {
      "displayName": "Jeferson Menegazzo",
      "photoUrl": "https://lh3.googleusercontent.com/a-/AOh14GhQawyEgOlmBHPaOoOT_loAbYF9XYcZK5PiYARmfg=s64",
      "userId": "12080988616245410525"
     },
     "user_tz": 180
    },
    "id": "c7g7OrnBpdxv",
    "trusted": true
   },
   "outputs": [],
   "source": [
    "# Labels to data classes\n",
    "data_class_labels_plot = [\"Dirt Road\", \"Cobblestone Road\", \"Asphalt Road\"]  "
   ]
  },
  {
   "cell_type": "code",
   "execution_count": 19,
   "metadata": {
    "execution": {
     "iopub.execute_input": "2025-06-08T04:54:09.885132Z",
     "iopub.status.busy": "2025-06-08T04:54:09.884828Z",
     "iopub.status.idle": "2025-06-08T04:54:09.890709Z",
     "shell.execute_reply": "2025-06-08T04:54:09.889903Z",
     "shell.execute_reply.started": "2025-06-08T04:54:09.885111Z"
    },
    "executionInfo": {
     "elapsed": 1136,
     "status": "ok",
     "timestamp": 1613255035379,
     "user": {
      "displayName": "Jeferson Menegazzo",
      "photoUrl": "https://lh3.googleusercontent.com/a-/AOh14GhQawyEgOlmBHPaOoOT_loAbYF9XYcZK5PiYARmfg=s64",
      "userId": "12080988616245410525"
     },
     "user_tz": 180
    },
    "id": "FCRVJEQ4V-bC",
    "trusted": true
   },
   "outputs": [],
   "source": [
    "def plotConfusionMatrix(values, title):\n",
    "\n",
    "    \"\"\" Plot confusion matrix\n",
    "    \"\"\"\n",
    "\n",
    "    con_mat_df = pd.DataFrame(values, index=data_class_labels_plot, columns=data_class_labels_plot)\n",
    "    figure = plt.figure(figsize=(6,6))\n",
    "    sns.set(font_scale=1.2)\n",
    "    sns.heatmap(con_mat_df, annot=True, cmap=plt.cm.Blues, fmt='g', annot_kws={\"size\": 14})\n",
    "    plt.tight_layout()\n",
    "    plt.title(title)\n",
    "    plt.ylabel('True label')\n",
    "    plt.xlabel('Predicted label')\n",
    "    plt.show()\n",
    "    figure.savefig('confusion_matrix.png', bbox_inches=\"tight\")"
   ]
  },
  {
   "cell_type": "code",
   "execution_count": 20,
   "metadata": {
    "execution": {
     "iopub.execute_input": "2025-06-08T04:54:14.218917Z",
     "iopub.status.busy": "2025-06-08T04:54:14.218103Z",
     "iopub.status.idle": "2025-06-08T04:54:14.222964Z",
     "shell.execute_reply": "2025-06-08T04:54:14.222042Z",
     "shell.execute_reply.started": "2025-06-08T04:54:14.218890Z"
    },
    "executionInfo": {
     "elapsed": 1134,
     "status": "ok",
     "timestamp": 1613255035380,
     "user": {
      "displayName": "Jeferson Menegazzo",
      "photoUrl": "https://lh3.googleusercontent.com/a-/AOh14GhQawyEgOlmBHPaOoOT_loAbYF9XYcZK5PiYARmfg=s64",
      "userId": "12080988616245410525"
     },
     "user_tz": 180
    },
    "id": "U2NqnnkdV_QN",
    "trusted": true
   },
   "outputs": [],
   "source": [
    "def plotHighDimensionalData(data):\n",
    "    hip.Experiment.from_dataframe(data).display()"
   ]
  },
  {
   "cell_type": "code",
   "execution_count": 21,
   "metadata": {
    "execution": {
     "iopub.execute_input": "2025-06-08T04:54:19.710041Z",
     "iopub.status.busy": "2025-06-08T04:54:19.709416Z",
     "iopub.status.idle": "2025-06-08T04:54:19.721028Z",
     "shell.execute_reply": "2025-06-08T04:54:19.720139Z",
     "shell.execute_reply.started": "2025-06-08T04:54:19.710019Z"
    },
    "executionInfo": {
     "elapsed": 1132,
     "status": "ok",
     "timestamp": 1613255035381,
     "user": {
      "displayName": "Jeferson Menegazzo",
      "photoUrl": "https://lh3.googleusercontent.com/a-/AOh14GhQawyEgOlmBHPaOoOT_loAbYF9XYcZK5PiYARmfg=s64",
      "userId": "12080988616245410525"
     },
     "user_tz": 180
    },
    "id": "OkzgV-ApYcVk",
    "trusted": true
   },
   "outputs": [],
   "source": [
    "def generateMetrics(modelBuilder, modelParameters):\n",
    "\n",
    "    experiment_total_placement = len(experiment_by_placement)\n",
    "    experiment_total_dataset = len(experiment_by_dataset)\n",
    "    experiment_total_input_shapes = len(input_shapes)\n",
    "    \n",
    "    load_bar_placement = tqdm(total=experiment_total_placement, desc='Experiment By Placement')\n",
    "    load_bar_dataset = tqdm(total=experiment_total_dataset, desc='Experiment By Dataset')\n",
    "    load_bar_input_shape = tqdm(total=experiment_total_input_shapes, desc='Experiment By Input Shape')\n",
    "\n",
    "    load_bar_placement.reset()\n",
    "\n",
    "    for placement, fields in experiment_by_placement:\n",
    "\n",
    "        load_bar_dataset.reset()\n",
    "        subsets = getSubSets(datasets.copy(), fields)\n",
    "        normalized_sets = getNormalizedDataMinMax(subsets, (-1,1)) # getNormalizedDataRobust(subsets)\n",
    "        \n",
    "        # Clean Memory\n",
    "        del subsets\n",
    "        gc.collect()\n",
    "\n",
    "        for experiment_number in range(0, len(experiment_by_dataset)):\n",
    "\n",
    "            load_bar_input_shape.reset()\n",
    "            sets_train = experiment_by_dataset[experiment_number]['sets_train']\n",
    "            sets_test = experiment_by_dataset[experiment_number]['sets_test']\n",
    "            sides_train = experiment_by_dataset[experiment_number]['sides_train']\n",
    "            sides_test = experiment_by_dataset[experiment_number]['sides_test']\n",
    "            experiments_report = []\n",
    "\n",
    "            for input_shape in input_shapes:\n",
    "\n",
    "                reshaped_sets, window_size = getReshapedData(normalized_sets.copy(), input_shape)\n",
    "                input_train, input_validation, output_train, output_validation = getTrainValidationSets(reshaped_sets, sets_train, sets_test, sides_train, sides_test)\n",
    "                \n",
    "                # Clean Memory\n",
    "                del reshaped_sets\n",
    "                gc.collect()\n",
    "\n",
    "                model_args = modelParameters(input_shape, output_shape)\n",
    "                model, model_name = modelBuilder(**model_args)\n",
    "                experiment_folder = os.path.join(experiments_folder, model_name, placement, \"Dataset Experiment \" + str(experiment_number + 1))\n",
    "                experiment_file = \"dataset-experiment-\" + str(experiment_number + 1) + \"-window-\" + str(window_size) + \"-robust-scaler\"\n",
    "\n",
    "                for file in os.listdir(experiment_folder):\n",
    "                    if file.startswith(experiment_file):\n",
    "                        experiment_file = file\n",
    "\n",
    "                loadWeights(model, os.path.join(experiment_folder, experiment_file))\n",
    "                predictions = predictModel(model, input_validation)\n",
    "\n",
    "                experiments_report.append({\n",
    "                    'params': {\n",
    "                        'file': experiment_file,\n",
    "                        'placement': placement,\n",
    "                        'experiment_number': experiment_number + 1, \n",
    "                        'window_size': window_size,\n",
    "                        'scaler': 'Robust Scaler',\n",
    "                        'input_shape': str(input_shape),\n",
    "                        'output_shape': str(output_shape)\n",
    "                    },\n",
    "                    'confusion_matrix': confusion_matrix(output_validation.round(0).argmax(axis=1), predictions.round(0).argmax(axis=1)).tolist(),\n",
    "                    'classification_report': classification_report(output_validation.round(0).argmax(axis=1), predictions.round(0).argmax(axis=1), target_names=data_class_labels_plot, output_dict=True)\n",
    "                })\n",
    "\n",
    "                with open(os.path.join(experiment_folder, 'classification_report.json'), 'w') as fp:\n",
    "                    json.dump(experiments_report, fp, indent=4)\n",
    "\n",
    "                load_bar_input_shape.update(1)\n",
    "\n",
    "                # Clean Memory\n",
    "                del model, predictions, input_train, input_validation, output_train, output_validation\n",
    "                gc.collect()\n",
    "                time.sleep(5)\n",
    "\n",
    "            load_bar_dataset.update(1)       \n",
    "        \n",
    "        # Clean Memory\n",
    "        del normalized_sets\n",
    "        load_bar_placement.update(1)"
   ]
  },
  {
   "cell_type": "code",
   "execution_count": 22,
   "metadata": {
    "execution": {
     "iopub.execute_input": "2025-06-08T04:54:23.850104Z",
     "iopub.status.busy": "2025-06-08T04:54:23.849813Z",
     "iopub.status.idle": "2025-06-08T04:54:23.856079Z",
     "shell.execute_reply": "2025-06-08T04:54:23.855309Z",
     "shell.execute_reply.started": "2025-06-08T04:54:23.850084Z"
    },
    "executionInfo": {
     "elapsed": 1131,
     "status": "ok",
     "timestamp": 1613255035382,
     "user": {
      "displayName": "Jeferson Menegazzo",
      "photoUrl": "https://lh3.googleusercontent.com/a-/AOh14GhQawyEgOlmBHPaOoOT_loAbYF9XYcZK5PiYARmfg=s64",
      "userId": "12080988616245410525"
     },
     "user_tz": 180
    },
    "id": "VnxeNpw1YdYe",
    "trusted": true
   },
   "outputs": [],
   "source": [
    "def getInfoData(model_name):\n",
    "\n",
    "    placement_info = {}\n",
    "        \n",
    "    for placement, fields in experiment_by_placement:\n",
    "\n",
    "        dataset_data = {}\n",
    "        \n",
    "        for experiment_number in range(0, len(experiment_by_dataset)):\n",
    "\n",
    "            folder = os.path.join(experiments_folder, model_name, placement, \"Dataset Experiment \" + str(experiment_number + 1))\n",
    "            log_file = os.path.join(folder, 'experiment-execution-log.csv')\n",
    "            metrics_file = os.path.join(folder, 'classification_report.json')\n",
    "\n",
    "            dataset_experiment_name = 'dataset_experiment' + str(experiment_number + 1)\n",
    "            dataset_data[dataset_experiment_name] = {}\n",
    "            dataset_data[dataset_experiment_name]['logs'] = pd.read_csv(log_file)\n",
    "\n",
    "            with open(metrics_file) as f:\n",
    "                dataset_data[dataset_experiment_name]['metrics'] = json.load(f)\n",
    "\n",
    "        placement_info[placement] = dataset_data\n",
    "\n",
    "    return placement_info"
   ]
  },
  {
   "cell_type": "code",
   "execution_count": 23,
   "metadata": {
    "execution": {
     "iopub.execute_input": "2025-06-08T04:54:29.317226Z",
     "iopub.status.busy": "2025-06-08T04:54:29.316913Z",
     "iopub.status.idle": "2025-06-08T04:54:29.327130Z",
     "shell.execute_reply": "2025-06-08T04:54:29.326265Z",
     "shell.execute_reply.started": "2025-06-08T04:54:29.317203Z"
    },
    "executionInfo": {
     "elapsed": 1129,
     "status": "ok",
     "timestamp": 1613255035382,
     "user": {
      "displayName": "Jeferson Menegazzo",
      "photoUrl": "https://lh3.googleusercontent.com/a-/AOh14GhQawyEgOlmBHPaOoOT_loAbYF9XYcZK5PiYARmfg=s64",
      "userId": "12080988616245410525"
     },
     "user_tz": 180
    },
    "id": "PzAvYvUSYes7",
    "trusted": true
   },
   "outputs": [],
   "source": [
    "def getInfoDataParsed(model_name):\n",
    "\n",
    "    placement_info = {}\n",
    "        \n",
    "    for placement, fields in experiment_by_placement:\n",
    "\n",
    "        dataset_info = {}\n",
    "        average = None\n",
    "        \n",
    "        for experiment_number in range(0, 3):\n",
    "\n",
    "            folder = os.path.join(experiments_folder, model_name, placement, \"Dataset Experiment \" + str(experiment_number + 1))\n",
    "            log_file = os.path.join(folder, 'experiment-execution-log.csv')\n",
    "            metrics_file = os.path.join(folder, 'classification_report.json')\n",
    "\n",
    "            logs_content = pd.read_csv(log_file)\n",
    "\n",
    "            with open(metrics_file) as f:\n",
    "                metrics_content = json.load(f)\n",
    "\n",
    "            window_info = []\n",
    "            \n",
    "            for window in [100, 200, 300, 400, 500]:\n",
    "\n",
    "                log_row = logs_content.loc[logs_content['window'] == window]\n",
    "\n",
    "                metrics_row = None\n",
    "\n",
    "                for row in metrics_content:\n",
    "                    if row['params']['window_size'] == window:\n",
    "                        metrics_row = row['classification_report']\n",
    "                        break\n",
    "\n",
    "                values_to_append = {\n",
    "                    'Window': log_row['window'].values[0],\n",
    "                    'Train Loss': log_row['train_loss'].values[0],\n",
    "                    'Val Loss': log_row['val_loss'].values[0],\n",
    "                    'Train Acc': log_row['train_acc'].values[0],\n",
    "                    'Val Acc': log_row['val_acc'].values[0],\n",
    "                }\n",
    "\n",
    "                for data_class in data_class_labels_plot:\n",
    "                    values_to_append[\"Precision - \" + data_class] =  metrics_row[data_class]['precision']\n",
    "                    values_to_append[\"Recall - \" + data_class] =  metrics_row[data_class]['recall']\n",
    "                    values_to_append[\"F1-Score - \" + data_class] =  metrics_row[data_class]['f1-score']\n",
    "\n",
    "                window_info.append(values_to_append)\n",
    "\n",
    "            if average is None:\n",
    "                average = pd.DataFrame.from_dict(window_info)\n",
    "            else:\n",
    "                average += pd.DataFrame.from_dict(window_info)\n",
    "            \n",
    "            dataset_info[\"Dataset Experiment \" + str(experiment_number + 1)] = pd.DataFrame.from_dict(window_info)\n",
    "            \n",
    "        dataset_info[\"Dataset Average\"] = average/3\n",
    "        placement_info[placement] = dataset_info\n",
    "\n",
    "    return placement_info"
   ]
  },
  {
   "cell_type": "markdown",
   "metadata": {
    "id": "2kDdPxtvYrxF"
   },
   "source": [
    "## Build Model"
   ]
  },
  {
   "cell_type": "code",
   "execution_count": 24,
   "metadata": {
    "execution": {
     "iopub.execute_input": "2025-06-08T04:54:33.996215Z",
     "iopub.status.busy": "2025-06-08T04:54:33.995600Z",
     "iopub.status.idle": "2025-06-08T04:54:34.001672Z",
     "shell.execute_reply": "2025-06-08T04:54:34.000843Z",
     "shell.execute_reply.started": "2025-06-08T04:54:33.996189Z"
    },
    "executionInfo": {
     "elapsed": 853,
     "status": "ok",
     "timestamp": 1613255037168,
     "user": {
      "displayName": "Jeferson Menegazzo",
      "photoUrl": "https://lh3.googleusercontent.com/a-/AOh14GhQawyEgOlmBHPaOoOT_loAbYF9XYcZK5PiYARmfg=s64",
      "userId": "12080988616245410525"
     },
     "user_tz": 180
    },
    "id": "7GaAkBIBYre7",
    "trusted": true
   },
   "outputs": [],
   "source": [
    "def modelBuilder(n_convolutional, n_features, n_outputs):\n",
    "    \n",
    "    model = Sequential([\n",
    "        Input(shape=(n_convolutional, n_features)),\n",
    "        Conv1D(filters=128, kernel_size=5, activation='relu'),\n",
    "        BatchNormalization(),\n",
    "        SpatialDropout1D(0.15),\n",
    "        Conv1D(filters=128, kernel_size=5, activation='relu'),\n",
    "        BatchNormalization(),\n",
    "        SpatialDropout1D(0.15),\n",
    "        Conv1D(filters=128, kernel_size=5, activation='relu'),\n",
    "        GlobalAvgPool1D(),\n",
    "        BatchNormalization(),\n",
    "        Dropout(0.2),\n",
    "        Dense(128, activation='relu'),\n",
    "        Dense(n_outputs, activation='softmax')\n",
    "    ])\n",
    "\n",
    "    model.compile(optimizer='adam', loss='categorical_crossentropy', metrics=['acc'])\n",
    "    return model, \"CNN Model\""
   ]
  },
  {
   "cell_type": "code",
   "execution_count": 25,
   "metadata": {
    "execution": {
     "iopub.execute_input": "2025-06-08T04:54:36.733149Z",
     "iopub.status.busy": "2025-06-08T04:54:36.732665Z",
     "iopub.status.idle": "2025-06-08T04:54:36.737298Z",
     "shell.execute_reply": "2025-06-08T04:54:36.736335Z",
     "shell.execute_reply.started": "2025-06-08T04:54:36.733126Z"
    },
    "executionInfo": {
     "elapsed": 850,
     "status": "ok",
     "timestamp": 1613255037168,
     "user": {
      "displayName": "Jeferson Menegazzo",
      "photoUrl": "https://lh3.googleusercontent.com/a-/AOh14GhQawyEgOlmBHPaOoOT_loAbYF9XYcZK5PiYARmfg=s64",
      "userId": "12080988616245410525"
     },
     "user_tz": 180
    },
    "id": "IpRmvadsZFBB",
    "trusted": true
   },
   "outputs": [],
   "source": [
    "def modelParameters(input_shape, output_shape):\n",
    "\n",
    "    return {\n",
    "        \"n_convolutional\": input_shape[1], \n",
    "        \"n_features\": input_shape[2], \n",
    "        \"n_outputs\": output_shape[1]\n",
    "    }"
   ]
  },
  {
   "cell_type": "markdown",
   "metadata": {
    "id": "L-WtZFP0ZM2S"
   },
   "source": [
    "## Training Model"
   ]
  },
  {
   "cell_type": "code",
   "execution_count": 26,
   "metadata": {
    "execution": {
     "iopub.execute_input": "2025-06-08T04:54:44.310407Z",
     "iopub.status.busy": "2025-06-08T04:54:44.309659Z",
     "iopub.status.idle": "2025-06-08T04:54:44.315197Z",
     "shell.execute_reply": "2025-06-08T04:54:44.314209Z",
     "shell.execute_reply.started": "2025-06-08T04:54:44.310362Z"
    },
    "executionInfo": {
     "elapsed": 824,
     "status": "ok",
     "timestamp": 1613255039861,
     "user": {
      "displayName": "Jeferson Menegazzo",
      "photoUrl": "https://lh3.googleusercontent.com/a-/AOh14GhQawyEgOlmBHPaOoOT_loAbYF9XYcZK5PiYARmfg=s64",
      "userId": "12080988616245410525"
     },
     "user_tz": 180
    },
    "id": "OA4dQHJjYVdX",
    "trusted": true
   },
   "outputs": [],
   "source": [
    "# Training and validation batch size\n",
    "batch_size = 64 # 32\n",
    "# Maximum number of training seasons per experiment\n",
    "epochs = 10000\n",
    "# Maximum number of executions without improving accuracy above min_delta\n",
    "patience = 50\n",
    "# Minimum value to consider which model has improved in training\n",
    "min_delta = 0.0001\n",
    "# Shuffle allowed in training\n",
    "shuffle = True\n",
    "# Whether the data windows are sliding. If yes, 100% overlap is used, otherwise 0% overlap with fixed window\n",
    "moving_window=False\n",
    "# If the last label of the data window is used as the expected output. Otherwise, the most common label is expected in the window\n",
    "last_label=False\n",
    "# Number of executions of the same experiment to minimize the randomness of the initial parameters\n",
    "num_tests=3\n",
    "# Parameter to summarize the training\n",
    "last_experiment_sequence = 0\n",
    "# Output shape\n",
    "output_shape = (None, 3)"
   ]
  },
  {
   "cell_type": "code",
   "execution_count": 27,
   "metadata": {
    "execution": {
     "iopub.execute_input": "2025-06-08T04:54:48.013596Z",
     "iopub.status.busy": "2025-06-08T04:54:48.012810Z",
     "iopub.status.idle": "2025-06-08T04:54:48.061194Z",
     "shell.execute_reply": "2025-06-08T04:54:48.060436Z",
     "shell.execute_reply.started": "2025-06-08T04:54:48.013566Z"
    },
    "executionInfo": {
     "elapsed": 812,
     "status": "ok",
     "timestamp": 1613255041147,
     "user": {
      "displayName": "Jeferson Menegazzo",
      "photoUrl": "https://lh3.googleusercontent.com/a-/AOh14GhQawyEgOlmBHPaOoOT_loAbYF9XYcZK5PiYARmfg=s64",
      "userId": "12080988616245410525"
     },
     "user_tz": 180
    },
    "id": "Ynsyi4WbZVTZ",
    "outputId": "45936694-93a6-472d-d77c-766018ee7b4c",
    "trusted": true
   },
   "outputs": [
    {
     "data": {
      "application/vnd.jupyter.widget-view+json": {
       "model_id": "649ecf2d18e94e48beb99004116e78e8",
       "version_major": 2,
       "version_minor": 0
      },
      "text/plain": [
       "Experiment By Placement:   0%|          | 0/3 [00:00<?, ?it/s]"
      ]
     },
     "metadata": {},
     "output_type": "display_data"
    },
    {
     "data": {
      "application/vnd.jupyter.widget-view+json": {
       "model_id": "0e265f7216fa4f9bbc3012faca4304da",
       "version_major": 2,
       "version_minor": 0
      },
      "text/plain": [
       "Experiment By Dataset:   0%|          | 0/3 [00:00<?, ?it/s]"
      ]
     },
     "metadata": {},
     "output_type": "display_data"
    },
    {
     "data": {
      "application/vnd.jupyter.widget-view+json": {
       "model_id": "2a853519f172462d8e6aa96823cc27bd",
       "version_major": 2,
       "version_minor": 0
      },
      "text/plain": [
       "Experiment By Input Shape:   0%|          | 0/5 [00:00<?, ?it/s]"
      ]
     },
     "metadata": {},
     "output_type": "display_data"
    },
    {
     "data": {
      "application/vnd.jupyter.widget-view+json": {
       "model_id": "779623449233474488017a86524d8b3b",
       "version_major": 2,
       "version_minor": 0
      },
      "text/plain": [
       "Retries:   0%|          | 0/3 [00:00<?, ?it/s]"
      ]
     },
     "metadata": {},
     "output_type": "display_data"
    }
   ],
   "source": [
    "getLoadBar()"
   ]
  },
  {
   "cell_type": "code",
   "execution_count": 28,
   "metadata": {
    "execution": {
     "iopub.execute_input": "2025-06-08T04:54:51.638940Z",
     "iopub.status.busy": "2025-06-08T04:54:51.638158Z",
     "iopub.status.idle": "2025-06-08T11:09:31.348655Z",
     "shell.execute_reply": "2025-06-08T11:09:31.347548Z",
     "shell.execute_reply.started": "2025-06-08T04:54:51.638913Z"
    },
    "id": "t0Ng9LmPZf6U",
    "trusted": true
   },
   "outputs": [
    {
     "data": {
      "image/png": "[encoded data removed]",
      "text/plain": [
       "<Figure size 1200x800 with 2 Axes>"
      ]
     },
     "metadata": {},
     "output_type": "display_data"
    },
    {
     "name": "stdout",
     "output_type": "stream",
     "text": [
      "Accuracy\n",
      "\ttraining         \t (min:    0.785, max:    0.991, cur:    0.988)\n",
      "\tvalidation       \t (min:    0.432, max:    0.941, cur:    0.892)\n",
      "Loss\n",
      "\ttraining         \t (min:    0.027, max:    0.494, cur:    0.032)\n",
      "\tvalidation       \t (min:    0.171, max:    1.261, cur:    0.290)\n",
      "Epoch 100: early stopping\n",
      "Restoring model weights from the end of the best epoch: 50.\n"
     ]
    }
   ],
   "source": [
    "run(modelBuilder, modelParameters)"
   ]
  },
  {
   "cell_type": "markdown",
   "metadata": {
    "id": "ADE50ZzqGaqD"
   },
   "source": [
    "## Analyzing Model"
   ]
  },
  {
   "cell_type": "code",
   "execution_count": 29,
   "metadata": {
    "execution": {
     "iopub.execute_input": "2025-06-08T11:11:05.298356Z",
     "iopub.status.busy": "2025-06-08T11:11:05.297534Z",
     "iopub.status.idle": "2025-06-08T11:11:05.304910Z",
     "shell.execute_reply": "2025-06-08T11:11:05.304159Z",
     "shell.execute_reply.started": "2025-06-08T11:11:05.298330Z"
    },
    "executionInfo": {
     "elapsed": 850,
     "status": "ok",
     "timestamp": 1613255129100,
     "user": {
      "displayName": "Jeferson Menegazzo",
      "photoUrl": "https://lh3.googleusercontent.com/a-/AOh14GhQawyEgOlmBHPaOoOT_loAbYF9XYcZK5PiYARmfg=s64",
      "userId": "12080988616245410525"
     },
     "user_tz": 180
    },
    "id": "vnp5nfXSBB2g",
    "trusted": true
   },
   "outputs": [],
   "source": [
    "git_url = \"https://github.com/Intelligent-Vehicle-Perception/Best-Models/raw/master/Road Surface Type Classification/\"\n",
    "\n",
    "best_model = {\n",
    "    \"input_shape\": (None, 300, 7),\n",
    "    \"output_shape\": (None, 3),\n",
    "    \"file_weights\": [\n",
    "        {\n",
    "            \"exp_placement\": 0,\n",
    "            \"exp_dataset\": 0,\n",
    "            \"exp_placement_name\": \"Below Suspension\",\n",
    "            \"exp_dataset_name\": \"Dataset 1\",\n",
    "            \"file_name\": \"experiment-1-window-300-scaler-min-max-scaler-(-1, 1)-train-acc-0.94669-val-acc-0.94776.hdf5\"\n",
    "        },\n",
    "        {\n",
    "            \"exp_placement\": 0,\n",
    "            \"exp_dataset\": 1,\n",
    "            \"exp_placement_name\": \"Below Suspension\",\n",
    "            \"exp_dataset_name\": \"Dataset 2\",\n",
    "            \"file_name\": 'experiment-2-window-300-scaler-min-max-scaler-(-1, 1)-train-acc-0.94398-val-acc-0.92171.hdf5'\n",
    "        },\n",
    "        {\n",
    "            \"exp_placement\": 0,\n",
    "            \"exp_dataset\": 2,\n",
    "            \"exp_placement_name\": \"Below Suspension\",\n",
    "            \"exp_dataset_name\": \"Dataset 3\",\n",
    "            \"file_name\": 'experiment-3-window-300-scaler-min-max-scaler-(-1, 1)-train-acc-0.97008-val-acc-0.92170.hdf5'\n",
    "        },\n",
    "        {\n",
    "            \"exp_placement\": 1,\n",
    "            \"exp_dataset\": 0,\n",
    "            \"exp_placement_name\": \"Above Suspension\",\n",
    "            \"exp_dataset_name\": \"Dataset 1\",\n",
    "            \"file_name\": 'experiment-1-window-300-scaler-min-max-scaler-(-1, 1)-train-acc-0.88457-val-acc-0.94108.hdf5'\n",
    "        },\n",
    "        {\n",
    "            \"exp_placement\": 1,\n",
    "            \"exp_dataset\": 1,\n",
    "            \"exp_placement_name\": \"Above Suspension\",\n",
    "            \"exp_dataset_name\": \"Dataset 2\",\n",
    "            \"file_name\": 'experiment-2-window-300-scaler-min-max-scaler-(-1, 1)-train-acc-0.92893-val-acc-0.90141.hdf5'\n",
    "        },\n",
    "        {\n",
    "            \"exp_placement\": 1,\n",
    "            \"exp_dataset\": 2,\n",
    "            \"exp_placement_name\": \"Above Suspension\",\n",
    "            \"exp_dataset_name\": \"Dataset 3\",\n",
    "            \"file_name\": 'experiment-3-window-300-scaler-min-max-scaler-(-1, 1)-train-acc-0.95449-val-acc-0.91803.hdf5'\n",
    "        },\n",
    "        {\n",
    "            \"exp_placement\": 2,\n",
    "            \"exp_dataset\": 0,\n",
    "            \"exp_placement_name\": \"Dashboard\",\n",
    "            \"exp_dataset_name\": \"Dataset 1\",\n",
    "            \"file_name\": 'experiment-1-window-300-scaler-min-max-scaler-(-1, 1)-train-acc-0.93164-val-acc-0.95247.hdf5'\n",
    "        },\n",
    "        {\n",
    "            \"exp_placement\": 2,\n",
    "            \"exp_dataset\": 1,\n",
    "            \"exp_placement_name\": \"Dashboard\",\n",
    "            \"exp_dataset_name\": \"Dataset 2\",\n",
    "            \"file_name\": 'experiment-2-window-300-scaler-min-max-scaler-(-1, 1)-train-acc-0.94837-val-acc-0.89934.hdf5'\n",
    "        },\n",
    "        {\n",
    "            \"exp_placement\": 2,\n",
    "            \"exp_dataset\": 2,\n",
    "            \"exp_placement_name\": \"Dashboard\",\n",
    "            \"exp_dataset_name\": \"Dataset 3\",\n",
    "            \"file_name\": 'experiment-3-window-300-scaler-min-max-scaler-(-1, 1)-train-acc-0.97493-val-acc-0.93964.hdf5'\n",
    "        }\n",
    "    ]\n",
    "}"
   ]
  },
  {
   "cell_type": "code",
   "execution_count": 30,
   "metadata": {
    "execution": {
     "iopub.execute_input": "2025-06-08T11:11:12.830110Z",
     "iopub.status.busy": "2025-06-08T11:11:12.829811Z",
     "iopub.status.idle": "2025-06-08T11:11:20.105565Z",
     "shell.execute_reply": "2025-06-08T11:11:20.104949Z",
     "shell.execute_reply.started": "2025-06-08T11:11:12.830090Z"
    },
    "executionInfo": {
     "elapsed": 10564,
     "status": "ok",
     "timestamp": 1613255140200,
     "user": {
      "displayName": "Jeferson Menegazzo",
      "photoUrl": "https://lh3.googleusercontent.com/a-/AOh14GhQawyEgOlmBHPaOoOT_loAbYF9XYcZK5PiYARmfg=s64",
      "userId": "12080988616245410525"
     },
     "user_tz": 180
    },
    "id": "GpR40PclBPsc",
    "trusted": true
   },
   "outputs": [],
   "source": [
    "for best_model_selected in best_model['file_weights']:\n",
    "\n",
    "    url = requote_uri(git_url + best_model_selected[\"exp_placement_name\"] + \"/\" + best_model_selected[\"exp_dataset_name\"] + \"/\" + best_model_selected[\"file_name\"])\n",
    "    r = requests.get(url)\n",
    "\n",
    "    with open(best_model_selected[\"file_name\"], 'wb') as f:\n",
    "        f.write(r.content)"
   ]
  },
  {
   "cell_type": "code",
   "execution_count": 32,
   "metadata": {
    "execution": {
     "iopub.execute_input": "2025-06-08T11:11:53.035291Z",
     "iopub.status.busy": "2025-06-08T11:11:53.034590Z",
     "iopub.status.idle": "2025-06-08T11:11:53.040145Z",
     "shell.execute_reply": "2025-06-08T11:11:53.039439Z",
     "shell.execute_reply.started": "2025-06-08T11:11:53.035259Z"
    },
    "executionInfo": {
     "elapsed": 7368,
     "status": "ok",
     "timestamp": 1613255140202,
     "user": {
      "displayName": "Jeferson Menegazzo",
      "photoUrl": "https://lh3.googleusercontent.com/a-/AOh14GhQawyEgOlmBHPaOoOT_loAbYF9XYcZK5PiYARmfg=s64",
      "userId": "12080988616245410525"
     },
     "user_tz": 180
    },
    "id": "5E0kEqVPOgqk",
    "trusted": true
   },
   "outputs": [],
   "source": [
    "best_model_selected = best_model['file_weights'][0]\n",
    "title = (best_model_selected[\"exp_placement_name\"] + \" \" + best_model_selected[\"exp_dataset_name\"]).title()\n",
    "\n",
    "# The Experiment by Placement. Reference the experiment_by_placement index\n",
    "# exp_placement = 0\n",
    "exp_placement = best_model_selected[\"exp_placement\"]\n",
    "\n",
    "# The Experiment by Context. Reference the experiment_by_dataset index\n",
    "# exp_dataset = 0\n",
    "exp_dataset = best_model_selected[\"exp_dataset\"]\n",
    "\n",
    "# The Experiment by Data Window Size. You can reference the input_shapes index or define the shape here\n",
    "# input_shape = (None, 300, 7)\n",
    "input_shape = best_model[\"input_shape\"]\n",
    "\n",
    "# Output Shape\n",
    "# output_shape = (None, 3)\n",
    "output_shape = best_model[\"output_shape\"]\n",
    "\n",
    "# Stored Weights\n",
    "# file_weights = \"/content/experiments/CNN Model/Below Suspension/Dataset Experiment 1/dataset-experiment-1-window-300-robust-scaler-train-acc-0.91595-val-acc-0.92537.hdf5\"\n",
    "file_weights = best_model_selected[\"file_name\"]"
   ]
  },
  {
   "cell_type": "code",
   "execution_count": 80,
   "metadata": {
    "execution": {
     "iopub.execute_input": "2025-06-08T11:34:37.027109Z",
     "iopub.status.busy": "2025-06-08T11:34:37.026784Z",
     "iopub.status.idle": "2025-06-08T11:35:04.595309Z",
     "shell.execute_reply": "2025-06-08T11:35:04.594639Z",
     "shell.execute_reply.started": "2025-06-08T11:34:37.027088Z"
    },
    "executionInfo": {
     "elapsed": 31404,
     "status": "ok",
     "timestamp": 1613255166601,
     "user": {
      "displayName": "Jeferson Menegazzo",
      "photoUrl": "https://lh3.googleusercontent.com/a-/AOh14GhQawyEgOlmBHPaOoOT_loAbYF9XYcZK5PiYARmfg=s64",
      "userId": "12080988616245410525"
     },
     "user_tz": 180
    },
    "id": "_DqAw6HTOgv9",
    "trusted": true
   },
   "outputs": [
    {
     "name": "stdout",
     "output_type": "stream",
     "text": [
      "\u001b[1m80/80\u001b[0m \u001b[32m━━━━━━━━━━━━━━━━━━━━\u001b[0m\u001b[37m\u001b[0m \u001b[1m1s\u001b[0m 7ms/step\n"
     ]
    },
    {
     "data": {
      "text/html": [
       "<pre style=\"white-space:pre;overflow-x:auto;line-height:normal;font-family:Menlo,'DejaVu Sans Mono',consolas,'Courier New',monospace\"><span style=\"font-weight: bold\">Model: \"sequential_139\"</span>\n",
       "</pre>\n"
      ],
      "text/plain": [
       "\u001b[1mModel: \"sequential_139\"\u001b[0m\n"
      ]
     },
     "metadata": {},
     "output_type": "display_data"
    },
    {
     "data": {
      "text/html": [
       "<pre style=\"white-space:pre;overflow-x:auto;line-height:normal;font-family:Menlo,'DejaVu Sans Mono',consolas,'Courier New',monospace\">┏━━━━━━━━━━━━━━━━━━━━━━━━━━━━━━━━━━━━━━┳━━━━━━━━━━━━━━━━━━━━━━━━━━━━━┳━━━━━━━━━━━━━━━━━┓\n",
       "┃<span style=\"font-weight: bold\"> Layer (type)                         </span>┃<span style=\"font-weight: bold\"> Output Shape                </span>┃<span style=\"font-weight: bold\">         Param # </span>┃\n",
       "┡━━━━━━━━━━━━━━━━━━━━━━━━━━━━━━━━━━━━━━╇━━━━━━━━━━━━━━━━━━━━━━━━━━━━━╇━━━━━━━━━━━━━━━━━┩\n",
       "│ conv1d_417 (<span style=\"color: #0087ff; text-decoration-color: #0087ff\">Conv1D</span>)                  │ (<span style=\"color: #00d7ff; text-decoration-color: #00d7ff\">None</span>, <span style=\"color: #00af00; text-decoration-color: #00af00\">296</span>, <span style=\"color: #00af00; text-decoration-color: #00af00\">128</span>)            │           <span style=\"color: #00af00; text-decoration-color: #00af00\">4,608</span> │\n",
       "├──────────────────────────────────────┼─────────────────────────────┼─────────────────┤\n",
       "│ batch_normalization_417              │ (<span style=\"color: #00d7ff; text-decoration-color: #00d7ff\">None</span>, <span style=\"color: #00af00; text-decoration-color: #00af00\">296</span>, <span style=\"color: #00af00; text-decoration-color: #00af00\">128</span>)            │             <span style=\"color: #00af00; text-decoration-color: #00af00\">512</span> │\n",
       "│ (<span style=\"color: #0087ff; text-decoration-color: #0087ff\">BatchNormalization</span>)                 │                             │                 │\n",
       "├──────────────────────────────────────┼─────────────────────────────┼─────────────────┤\n",
       "│ spatial_dropout1d_278                │ (<span style=\"color: #00d7ff; text-decoration-color: #00d7ff\">None</span>, <span style=\"color: #00af00; text-decoration-color: #00af00\">296</span>, <span style=\"color: #00af00; text-decoration-color: #00af00\">128</span>)            │               <span style=\"color: #00af00; text-decoration-color: #00af00\">0</span> │\n",
       "│ (<span style=\"color: #0087ff; text-decoration-color: #0087ff\">SpatialDropout1D</span>)                   │                             │                 │\n",
       "├──────────────────────────────────────┼─────────────────────────────┼─────────────────┤\n",
       "│ conv1d_418 (<span style=\"color: #0087ff; text-decoration-color: #0087ff\">Conv1D</span>)                  │ (<span style=\"color: #00d7ff; text-decoration-color: #00d7ff\">None</span>, <span style=\"color: #00af00; text-decoration-color: #00af00\">292</span>, <span style=\"color: #00af00; text-decoration-color: #00af00\">128</span>)            │          <span style=\"color: #00af00; text-decoration-color: #00af00\">82,048</span> │\n",
       "├──────────────────────────────────────┼─────────────────────────────┼─────────────────┤\n",
       "│ batch_normalization_418              │ (<span style=\"color: #00d7ff; text-decoration-color: #00d7ff\">None</span>, <span style=\"color: #00af00; text-decoration-color: #00af00\">292</span>, <span style=\"color: #00af00; text-decoration-color: #00af00\">128</span>)            │             <span style=\"color: #00af00; text-decoration-color: #00af00\">512</span> │\n",
       "│ (<span style=\"color: #0087ff; text-decoration-color: #0087ff\">BatchNormalization</span>)                 │                             │                 │\n",
       "├──────────────────────────────────────┼─────────────────────────────┼─────────────────┤\n",
       "│ spatial_dropout1d_279                │ (<span style=\"color: #00d7ff; text-decoration-color: #00d7ff\">None</span>, <span style=\"color: #00af00; text-decoration-color: #00af00\">292</span>, <span style=\"color: #00af00; text-decoration-color: #00af00\">128</span>)            │               <span style=\"color: #00af00; text-decoration-color: #00af00\">0</span> │\n",
       "│ (<span style=\"color: #0087ff; text-decoration-color: #0087ff\">SpatialDropout1D</span>)                   │                             │                 │\n",
       "├──────────────────────────────────────┼─────────────────────────────┼─────────────────┤\n",
       "│ conv1d_419 (<span style=\"color: #0087ff; text-decoration-color: #0087ff\">Conv1D</span>)                  │ (<span style=\"color: #00d7ff; text-decoration-color: #00d7ff\">None</span>, <span style=\"color: #00af00; text-decoration-color: #00af00\">288</span>, <span style=\"color: #00af00; text-decoration-color: #00af00\">128</span>)            │          <span style=\"color: #00af00; text-decoration-color: #00af00\">82,048</span> │\n",
       "├──────────────────────────────────────┼─────────────────────────────┼─────────────────┤\n",
       "│ global_average_pooling1d_139         │ (<span style=\"color: #00d7ff; text-decoration-color: #00d7ff\">None</span>, <span style=\"color: #00af00; text-decoration-color: #00af00\">128</span>)                 │               <span style=\"color: #00af00; text-decoration-color: #00af00\">0</span> │\n",
       "│ (<span style=\"color: #0087ff; text-decoration-color: #0087ff\">GlobalAveragePooling1D</span>)             │                             │                 │\n",
       "├──────────────────────────────────────┼─────────────────────────────┼─────────────────┤\n",
       "│ batch_normalization_419              │ (<span style=\"color: #00d7ff; text-decoration-color: #00d7ff\">None</span>, <span style=\"color: #00af00; text-decoration-color: #00af00\">128</span>)                 │             <span style=\"color: #00af00; text-decoration-color: #00af00\">512</span> │\n",
       "│ (<span style=\"color: #0087ff; text-decoration-color: #0087ff\">BatchNormalization</span>)                 │                             │                 │\n",
       "├──────────────────────────────────────┼─────────────────────────────┼─────────────────┤\n",
       "│ dropout_139 (<span style=\"color: #0087ff; text-decoration-color: #0087ff\">Dropout</span>)                │ (<span style=\"color: #00d7ff; text-decoration-color: #00d7ff\">None</span>, <span style=\"color: #00af00; text-decoration-color: #00af00\">128</span>)                 │               <span style=\"color: #00af00; text-decoration-color: #00af00\">0</span> │\n",
       "├──────────────────────────────────────┼─────────────────────────────┼─────────────────┤\n",
       "│ dense_278 (<span style=\"color: #0087ff; text-decoration-color: #0087ff\">Dense</span>)                    │ (<span style=\"color: #00d7ff; text-decoration-color: #00d7ff\">None</span>, <span style=\"color: #00af00; text-decoration-color: #00af00\">128</span>)                 │          <span style=\"color: #00af00; text-decoration-color: #00af00\">16,512</span> │\n",
       "├──────────────────────────────────────┼─────────────────────────────┼─────────────────┤\n",
       "│ dense_279 (<span style=\"color: #0087ff; text-decoration-color: #0087ff\">Dense</span>)                    │ (<span style=\"color: #00d7ff; text-decoration-color: #00d7ff\">None</span>, <span style=\"color: #00af00; text-decoration-color: #00af00\">3</span>)                   │             <span style=\"color: #00af00; text-decoration-color: #00af00\">387</span> │\n",
       "└──────────────────────────────────────┴─────────────────────────────┴─────────────────┘\n",
       "</pre>\n"
      ],
      "text/plain": [
       "┏━━━━━━━━━━━━━━━━━━━━━━━━━━━━━━━━━━━━━━┳━━━━━━━━━━━━━━━━━━━━━━━━━━━━━┳━━━━━━━━━━━━━━━━━┓\n",
       "┃\u001b[1m \u001b[0m\u001b[1mLayer (type)                        \u001b[0m\u001b[1m \u001b[0m┃\u001b[1m \u001b[0m\u001b[1mOutput Shape               \u001b[0m\u001b[1m \u001b[0m┃\u001b[1m \u001b[0m\u001b[1m        Param #\u001b[0m\u001b[1m \u001b[0m┃\n",
       "┡━━━━━━━━━━━━━━━━━━━━━━━━━━━━━━━━━━━━━━╇━━━━━━━━━━━━━━━━━━━━━━━━━━━━━╇━━━━━━━━━━━━━━━━━┩\n",
       "│ conv1d_417 (\u001b[38;5;33mConv1D\u001b[0m)                  │ (\u001b[38;5;45mNone\u001b[0m, \u001b[38;5;34m296\u001b[0m, \u001b[38;5;34m128\u001b[0m)            │           \u001b[38;5;34m4,608\u001b[0m │\n",
       "├──────────────────────────────────────┼─────────────────────────────┼─────────────────┤\n",
       "│ batch_normalization_417              │ (\u001b[38;5;45mNone\u001b[0m, \u001b[38;5;34m296\u001b[0m, \u001b[38;5;34m128\u001b[0m)            │             \u001b[38;5;34m512\u001b[0m │\n",
       "│ (\u001b[38;5;33mBatchNormalization\u001b[0m)                 │                             │                 │\n",
       "├──────────────────────────────────────┼─────────────────────────────┼─────────────────┤\n",
       "│ spatial_dropout1d_278                │ (\u001b[38;5;45mNone\u001b[0m, \u001b[38;5;34m296\u001b[0m, \u001b[38;5;34m128\u001b[0m)            │               \u001b[38;5;34m0\u001b[0m │\n",
       "│ (\u001b[38;5;33mSpatialDropout1D\u001b[0m)                   │                             │                 │\n",
       "├──────────────────────────────────────┼─────────────────────────────┼─────────────────┤\n",
       "│ conv1d_418 (\u001b[38;5;33mConv1D\u001b[0m)                  │ (\u001b[38;5;45mNone\u001b[0m, \u001b[38;5;34m292\u001b[0m, \u001b[38;5;34m128\u001b[0m)            │          \u001b[38;5;34m82,048\u001b[0m │\n",
       "├──────────────────────────────────────┼─────────────────────────────┼─────────────────┤\n",
       "│ batch_normalization_418              │ (\u001b[38;5;45mNone\u001b[0m, \u001b[38;5;34m292\u001b[0m, \u001b[38;5;34m128\u001b[0m)            │             \u001b[38;5;34m512\u001b[0m │\n",
       "│ (\u001b[38;5;33mBatchNormalization\u001b[0m)                 │                             │                 │\n",
       "├──────────────────────────────────────┼─────────────────────────────┼─────────────────┤\n",
       "│ spatial_dropout1d_279                │ (\u001b[38;5;45mNone\u001b[0m, \u001b[38;5;34m292\u001b[0m, \u001b[38;5;34m128\u001b[0m)            │               \u001b[38;5;34m0\u001b[0m │\n",
       "│ (\u001b[38;5;33mSpatialDropout1D\u001b[0m)                   │                             │                 │\n",
       "├──────────────────────────────────────┼─────────────────────────────┼─────────────────┤\n",
       "│ conv1d_419 (\u001b[38;5;33mConv1D\u001b[0m)                  │ (\u001b[38;5;45mNone\u001b[0m, \u001b[38;5;34m288\u001b[0m, \u001b[38;5;34m128\u001b[0m)            │          \u001b[38;5;34m82,048\u001b[0m │\n",
       "├──────────────────────────────────────┼─────────────────────────────┼─────────────────┤\n",
       "│ global_average_pooling1d_139         │ (\u001b[38;5;45mNone\u001b[0m, \u001b[38;5;34m128\u001b[0m)                 │               \u001b[38;5;34m0\u001b[0m │\n",
       "│ (\u001b[38;5;33mGlobalAveragePooling1D\u001b[0m)             │                             │                 │\n",
       "├──────────────────────────────────────┼─────────────────────────────┼─────────────────┤\n",
       "│ batch_normalization_419              │ (\u001b[38;5;45mNone\u001b[0m, \u001b[38;5;34m128\u001b[0m)                 │             \u001b[38;5;34m512\u001b[0m │\n",
       "│ (\u001b[38;5;33mBatchNormalization\u001b[0m)                 │                             │                 │\n",
       "├──────────────────────────────────────┼─────────────────────────────┼─────────────────┤\n",
       "│ dropout_139 (\u001b[38;5;33mDropout\u001b[0m)                │ (\u001b[38;5;45mNone\u001b[0m, \u001b[38;5;34m128\u001b[0m)                 │               \u001b[38;5;34m0\u001b[0m │\n",
       "├──────────────────────────────────────┼─────────────────────────────┼─────────────────┤\n",
       "│ dense_278 (\u001b[38;5;33mDense\u001b[0m)                    │ (\u001b[38;5;45mNone\u001b[0m, \u001b[38;5;34m128\u001b[0m)                 │          \u001b[38;5;34m16,512\u001b[0m │\n",
       "├──────────────────────────────────────┼─────────────────────────────┼─────────────────┤\n",
       "│ dense_279 (\u001b[38;5;33mDense\u001b[0m)                    │ (\u001b[38;5;45mNone\u001b[0m, \u001b[38;5;34m3\u001b[0m)                   │             \u001b[38;5;34m387\u001b[0m │\n",
       "└──────────────────────────────────────┴─────────────────────────────┴─────────────────┘\n"
      ]
     },
     "metadata": {},
     "output_type": "display_data"
    },
    {
     "data": {
      "text/html": [
       "<pre style=\"white-space:pre;overflow-x:auto;line-height:normal;font-family:Menlo,'DejaVu Sans Mono',consolas,'Courier New',monospace\"><span style=\"font-weight: bold\"> Total params: </span><span style=\"color: #00af00; text-decoration-color: #00af00\">187,139</span> (731.01 KB)\n",
       "</pre>\n"
      ],
      "text/plain": [
       "\u001b[1m Total params: \u001b[0m\u001b[38;5;34m187,139\u001b[0m (731.01 KB)\n"
      ]
     },
     "metadata": {},
     "output_type": "display_data"
    },
    {
     "data": {
      "text/html": [
       "<pre style=\"white-space:pre;overflow-x:auto;line-height:normal;font-family:Menlo,'DejaVu Sans Mono',consolas,'Courier New',monospace\"><span style=\"font-weight: bold\"> Trainable params: </span><span style=\"color: #00af00; text-decoration-color: #00af00\">186,371</span> (728.01 KB)\n",
       "</pre>\n"
      ],
      "text/plain": [
       "\u001b[1m Trainable params: \u001b[0m\u001b[38;5;34m186,371\u001b[0m (728.01 KB)\n"
      ]
     },
     "metadata": {},
     "output_type": "display_data"
    },
    {
     "data": {
      "text/html": [
       "<pre style=\"white-space:pre;overflow-x:auto;line-height:normal;font-family:Menlo,'DejaVu Sans Mono',consolas,'Courier New',monospace\"><span style=\"font-weight: bold\"> Non-trainable params: </span><span style=\"color: #00af00; text-decoration-color: #00af00\">768</span> (3.00 KB)\n",
       "</pre>\n"
      ],
      "text/plain": [
       "\u001b[1m Non-trainable params: \u001b[0m\u001b[38;5;34m768\u001b[0m (3.00 KB)\n"
      ]
     },
     "metadata": {},
     "output_type": "display_data"
    }
   ],
   "source": [
    "placement = experiment_by_placement[exp_placement][0]\n",
    "fields = experiment_by_placement[exp_placement][1]\n",
    "\n",
    "sets_train = experiment_by_dataset[exp_dataset]['sets_train']\n",
    "sets_test = experiment_by_dataset[exp_dataset]['sets_test']\n",
    "sides_train = experiment_by_dataset[exp_dataset]['sides_train']\n",
    "sides_test = experiment_by_dataset[exp_dataset]['sides_test']\n",
    "\n",
    "subsets = getSubSets(datasets.copy(), fields, data_class_labels)\n",
    "normalized_sets = getNormalizedDataMinMax(subsets, (-1,1)) # getNormalizedDataRobust(subsets)\n",
    "reshaped_sets, window_size = getReshapedData(normalized_sets, input_shape)\n",
    "input_train, input_validation, output_train, output_validation = getTrainValidationSets(reshaped_sets, sets_train, sets_test, sides_train, sides_test)\n",
    "del subsets, normalized_sets, reshaped_sets\n",
    "\n",
    "model_args = modelParameters(input_shape, output_shape)\n",
    "model, model_name = modelBuilder(**model_args)\n",
    "loadWeights(model, file_weights)\n",
    "predictions = predictModel(model, input_validation)\n",
    "model.summary()"
   ]
  },
  {
   "cell_type": "markdown",
   "metadata": {
    "id": "95L3JuctYNIT"
   },
   "source": [
    "Below is shown the confusion matrix:"
   ]
  },
  {
   "cell_type": "code",
   "execution_count": 75,
   "metadata": {
    "execution": {
     "iopub.execute_input": "2025-06-08T11:31:54.547743Z",
     "iopub.status.busy": "2025-06-08T11:31:54.547454Z",
     "iopub.status.idle": "2025-06-08T11:31:54.978332Z",
     "shell.execute_reply": "2025-06-08T11:31:54.977358Z",
     "shell.execute_reply.started": "2025-06-08T11:31:54.547723Z"
    },
    "executionInfo": {
     "elapsed": 29863,
     "status": "ok",
     "timestamp": 1613255166948,
     "user": {
      "displayName": "Jeferson Menegazzo",
      "photoUrl": "https://lh3.googleusercontent.com/a-/AOh14GhQawyEgOlmBHPaOoOT_loAbYF9XYcZK5PiYARmfg=s64",
      "userId": "12080988616245410525"
     },
     "user_tz": 180
    },
    "id": "0vnKpEu7atMZ",
    "outputId": "741ef5b5-27da-4a18-9f8e-1047bb6f61d9",
    "trusted": true
   },
   "outputs": [
    {
     "data": {
      "image/png": "[encoded data removed]",
      "text/plain": [
       "<Figure size 600x600 with 2 Axes>"
      ]
     },
     "metadata": {},
     "output_type": "display_data"
    }
   ],
   "source": [
    "matrix = confusion_matrix(output_validation.argmax(axis=1), predictions.argmax(axis=1))\n",
    "plotConfusionMatrix(matrix, title)"
   ]
  },
  {
   "cell_type": "markdown",
   "metadata": {
    "id": "_tZYs7f2YR1y"
   },
   "source": [
    "And the classification report:"
   ]
  },
  {
   "cell_type": "code",
   "execution_count": 76,
   "metadata": {
    "execution": {
     "iopub.execute_input": "2025-06-08T11:32:09.975865Z",
     "iopub.status.busy": "2025-06-08T11:32:09.975619Z",
     "iopub.status.idle": "2025-06-08T11:32:09.996823Z",
     "shell.execute_reply": "2025-06-08T11:32:09.995954Z",
     "shell.execute_reply.started": "2025-06-08T11:32:09.975849Z"
    },
    "executionInfo": {
     "elapsed": 27509,
     "status": "ok",
     "timestamp": 1613255166949,
     "user": {
      "displayName": "Jeferson Menegazzo",
      "photoUrl": "https://lh3.googleusercontent.com/a-/AOh14GhQawyEgOlmBHPaOoOT_loAbYF9XYcZK5PiYARmfg=s64",
      "userId": "12080988616245410525"
     },
     "user_tz": 180
    },
    "id": "D_dRrF0ObOaf",
    "outputId": "dfbf4c37-53b6-4c6b-9b0b-88ffeefb5c78",
    "trusted": true
   },
   "outputs": [
    {
     "data": {
      "text/html": [
       "<div>\n",
       "<style scoped>\n",
       "    .dataframe tbody tr th:only-of-type {\n",
       "        vertical-align: middle;\n",
       "    }\n",
       "\n",
       "    .dataframe tbody tr th {\n",
       "        vertical-align: top;\n",
       "    }\n",
       "\n",
       "    .dataframe thead th {\n",
       "        text-align: right;\n",
       "    }\n",
       "</style>\n",
       "<table border=\"1\" class=\"dataframe\">\n",
       "  <thead>\n",
       "    <tr style=\"text-align: right;\">\n",
       "      <th></th>\n",
       "      <th>precision</th>\n",
       "      <th>recall</th>\n",
       "      <th>f1-score</th>\n",
       "      <th>support</th>\n",
       "    </tr>\n",
       "  </thead>\n",
       "  <tbody>\n",
       "    <tr>\n",
       "      <th>Dirt Road</th>\n",
       "      <td>0.913777</td>\n",
       "      <td>0.976954</td>\n",
       "      <td>0.944310</td>\n",
       "      <td>998.000000</td>\n",
       "    </tr>\n",
       "    <tr>\n",
       "      <th>Cobblestone Road</th>\n",
       "      <td>0.907738</td>\n",
       "      <td>0.794271</td>\n",
       "      <td>0.847222</td>\n",
       "      <td>384.000000</td>\n",
       "    </tr>\n",
       "    <tr>\n",
       "      <th>Asphalt Road</th>\n",
       "      <td>0.991251</td>\n",
       "      <td>0.973368</td>\n",
       "      <td>0.982228</td>\n",
       "      <td>1164.000000</td>\n",
       "    </tr>\n",
       "    <tr>\n",
       "      <th>accuracy</th>\n",
       "      <td>0.947761</td>\n",
       "      <td>0.947761</td>\n",
       "      <td>0.947761</td>\n",
       "      <td>0.947761</td>\n",
       "    </tr>\n",
       "    <tr>\n",
       "      <th>macro avg</th>\n",
       "      <td>0.937589</td>\n",
       "      <td>0.914864</td>\n",
       "      <td>0.924587</td>\n",
       "      <td>2546.000000</td>\n",
       "    </tr>\n",
       "    <tr>\n",
       "      <th>weighted avg</th>\n",
       "      <td>0.948286</td>\n",
       "      <td>0.947761</td>\n",
       "      <td>0.947002</td>\n",
       "      <td>2546.000000</td>\n",
       "    </tr>\n",
       "  </tbody>\n",
       "</table>\n",
       "</div>"
      ],
      "text/plain": [
       "                  precision    recall  f1-score      support\n",
       "Dirt Road          0.913777  0.976954  0.944310   998.000000\n",
       "Cobblestone Road   0.907738  0.794271  0.847222   384.000000\n",
       "Asphalt Road       0.991251  0.973368  0.982228  1164.000000\n",
       "accuracy           0.947761  0.947761  0.947761     0.947761\n",
       "macro avg          0.937589  0.914864  0.924587  2546.000000\n",
       "weighted avg       0.948286  0.947761  0.947002  2546.000000"
      ]
     },
     "execution_count": 76,
     "metadata": {},
     "output_type": "execute_result"
    }
   ],
   "source": [
    "report = classification_report(output_validation.argmax(axis=1), predictions.argmax(axis=1), target_names=data_class_labels_plot, output_dict=True)\n",
    "pd.DataFrame(report).transpose()"
   ]
  },
  {
   "cell_type": "code",
   "execution_count": 102,
   "metadata": {
    "execution": {
     "iopub.execute_input": "2025-06-08T11:45:30.870310Z",
     "iopub.status.busy": "2025-06-08T11:45:30.869767Z",
     "iopub.status.idle": "2025-06-08T11:45:31.074359Z",
     "shell.execute_reply": "2025-06-08T11:45:31.073542Z",
     "shell.execute_reply.started": "2025-06-08T11:45:30.870289Z"
    },
    "trusted": true
   },
   "outputs": [
    {
     "name": "stderr",
     "output_type": "stream",
     "text": [
      "/usr/local/lib/python3.11/dist-packages/keras/src/saving/saving_lib.py:757: UserWarning: Skipping variable loading for optimizer 'adam', because it has 34 variables whereas the saved optimizer has 2 variables. \n",
      "  saveable.load_own_variables(weights_store.get(inner_path))\n"
     ]
    }
   ],
   "source": [
    "model.save('road_surface_model.keras')\n",
    "# Load with:\n",
    "new_model = load_model('road_surface_model.keras')"
   ]
  },
  {
   "cell_type": "code",
   "execution_count": 84,
   "metadata": {
    "execution": {
     "iopub.execute_input": "2025-06-08T11:36:10.573076Z",
     "iopub.status.busy": "2025-06-08T11:36:10.572779Z",
     "iopub.status.idle": "2025-06-08T11:36:10.596477Z",
     "shell.execute_reply": "2025-06-08T11:36:10.595666Z",
     "shell.execute_reply.started": "2025-06-08T11:36:10.573055Z"
    },
    "trusted": true
   },
   "outputs": [
    {
     "data": {
      "text/html": [
       "<pre style=\"white-space:pre;overflow-x:auto;line-height:normal;font-family:Menlo,'DejaVu Sans Mono',consolas,'Courier New',monospace\"><span style=\"font-weight: bold\">Model: \"sequential_139\"</span>\n",
       "</pre>\n"
      ],
      "text/plain": [
       "\u001b[1mModel: \"sequential_139\"\u001b[0m\n"
      ]
     },
     "metadata": {},
     "output_type": "display_data"
    },
    {
     "data": {
      "text/html": [
       "<pre style=\"white-space:pre;overflow-x:auto;line-height:normal;font-family:Menlo,'DejaVu Sans Mono',consolas,'Courier New',monospace\">┏━━━━━━━━━━━━━━━━━━━━━━━━━━━━━━━━━━━━━━┳━━━━━━━━━━━━━━━━━━━━━━━━━━━━━┳━━━━━━━━━━━━━━━━━┓\n",
       "┃<span style=\"font-weight: bold\"> Layer (type)                         </span>┃<span style=\"font-weight: bold\"> Output Shape                </span>┃<span style=\"font-weight: bold\">         Param # </span>┃\n",
       "┡━━━━━━━━━━━━━━━━━━━━━━━━━━━━━━━━━━━━━━╇━━━━━━━━━━━━━━━━━━━━━━━━━━━━━╇━━━━━━━━━━━━━━━━━┩\n",
       "│ conv1d_417 (<span style=\"color: #0087ff; text-decoration-color: #0087ff\">Conv1D</span>)                  │ (<span style=\"color: #00d7ff; text-decoration-color: #00d7ff\">None</span>, <span style=\"color: #00af00; text-decoration-color: #00af00\">296</span>, <span style=\"color: #00af00; text-decoration-color: #00af00\">128</span>)            │           <span style=\"color: #00af00; text-decoration-color: #00af00\">4,608</span> │\n",
       "├──────────────────────────────────────┼─────────────────────────────┼─────────────────┤\n",
       "│ batch_normalization_417              │ (<span style=\"color: #00d7ff; text-decoration-color: #00d7ff\">None</span>, <span style=\"color: #00af00; text-decoration-color: #00af00\">296</span>, <span style=\"color: #00af00; text-decoration-color: #00af00\">128</span>)            │             <span style=\"color: #00af00; text-decoration-color: #00af00\">512</span> │\n",
       "│ (<span style=\"color: #0087ff; text-decoration-color: #0087ff\">BatchNormalization</span>)                 │                             │                 │\n",
       "├──────────────────────────────────────┼─────────────────────────────┼─────────────────┤\n",
       "│ spatial_dropout1d_278                │ (<span style=\"color: #00d7ff; text-decoration-color: #00d7ff\">None</span>, <span style=\"color: #00af00; text-decoration-color: #00af00\">296</span>, <span style=\"color: #00af00; text-decoration-color: #00af00\">128</span>)            │               <span style=\"color: #00af00; text-decoration-color: #00af00\">0</span> │\n",
       "│ (<span style=\"color: #0087ff; text-decoration-color: #0087ff\">SpatialDropout1D</span>)                   │                             │                 │\n",
       "├──────────────────────────────────────┼─────────────────────────────┼─────────────────┤\n",
       "│ conv1d_418 (<span style=\"color: #0087ff; text-decoration-color: #0087ff\">Conv1D</span>)                  │ (<span style=\"color: #00d7ff; text-decoration-color: #00d7ff\">None</span>, <span style=\"color: #00af00; text-decoration-color: #00af00\">292</span>, <span style=\"color: #00af00; text-decoration-color: #00af00\">128</span>)            │          <span style=\"color: #00af00; text-decoration-color: #00af00\">82,048</span> │\n",
       "├──────────────────────────────────────┼─────────────────────────────┼─────────────────┤\n",
       "│ batch_normalization_418              │ (<span style=\"color: #00d7ff; text-decoration-color: #00d7ff\">None</span>, <span style=\"color: #00af00; text-decoration-color: #00af00\">292</span>, <span style=\"color: #00af00; text-decoration-color: #00af00\">128</span>)            │             <span style=\"color: #00af00; text-decoration-color: #00af00\">512</span> │\n",
       "│ (<span style=\"color: #0087ff; text-decoration-color: #0087ff\">BatchNormalization</span>)                 │                             │                 │\n",
       "├──────────────────────────────────────┼─────────────────────────────┼─────────────────┤\n",
       "│ spatial_dropout1d_279                │ (<span style=\"color: #00d7ff; text-decoration-color: #00d7ff\">None</span>, <span style=\"color: #00af00; text-decoration-color: #00af00\">292</span>, <span style=\"color: #00af00; text-decoration-color: #00af00\">128</span>)            │               <span style=\"color: #00af00; text-decoration-color: #00af00\">0</span> │\n",
       "│ (<span style=\"color: #0087ff; text-decoration-color: #0087ff\">SpatialDropout1D</span>)                   │                             │                 │\n",
       "├──────────────────────────────────────┼─────────────────────────────┼─────────────────┤\n",
       "│ conv1d_419 (<span style=\"color: #0087ff; text-decoration-color: #0087ff\">Conv1D</span>)                  │ (<span style=\"color: #00d7ff; text-decoration-color: #00d7ff\">None</span>, <span style=\"color: #00af00; text-decoration-color: #00af00\">288</span>, <span style=\"color: #00af00; text-decoration-color: #00af00\">128</span>)            │          <span style=\"color: #00af00; text-decoration-color: #00af00\">82,048</span> │\n",
       "├──────────────────────────────────────┼─────────────────────────────┼─────────────────┤\n",
       "│ global_average_pooling1d_139         │ (<span style=\"color: #00d7ff; text-decoration-color: #00d7ff\">None</span>, <span style=\"color: #00af00; text-decoration-color: #00af00\">128</span>)                 │               <span style=\"color: #00af00; text-decoration-color: #00af00\">0</span> │\n",
       "│ (<span style=\"color: #0087ff; text-decoration-color: #0087ff\">GlobalAveragePooling1D</span>)             │                             │                 │\n",
       "├──────────────────────────────────────┼─────────────────────────────┼─────────────────┤\n",
       "│ batch_normalization_419              │ (<span style=\"color: #00d7ff; text-decoration-color: #00d7ff\">None</span>, <span style=\"color: #00af00; text-decoration-color: #00af00\">128</span>)                 │             <span style=\"color: #00af00; text-decoration-color: #00af00\">512</span> │\n",
       "│ (<span style=\"color: #0087ff; text-decoration-color: #0087ff\">BatchNormalization</span>)                 │                             │                 │\n",
       "├──────────────────────────────────────┼─────────────────────────────┼─────────────────┤\n",
       "│ dropout_139 (<span style=\"color: #0087ff; text-decoration-color: #0087ff\">Dropout</span>)                │ (<span style=\"color: #00d7ff; text-decoration-color: #00d7ff\">None</span>, <span style=\"color: #00af00; text-decoration-color: #00af00\">128</span>)                 │               <span style=\"color: #00af00; text-decoration-color: #00af00\">0</span> │\n",
       "├──────────────────────────────────────┼─────────────────────────────┼─────────────────┤\n",
       "│ dense_278 (<span style=\"color: #0087ff; text-decoration-color: #0087ff\">Dense</span>)                    │ (<span style=\"color: #00d7ff; text-decoration-color: #00d7ff\">None</span>, <span style=\"color: #00af00; text-decoration-color: #00af00\">128</span>)                 │          <span style=\"color: #00af00; text-decoration-color: #00af00\">16,512</span> │\n",
       "├──────────────────────────────────────┼─────────────────────────────┼─────────────────┤\n",
       "│ dense_279 (<span style=\"color: #0087ff; text-decoration-color: #0087ff\">Dense</span>)                    │ (<span style=\"color: #00d7ff; text-decoration-color: #00d7ff\">None</span>, <span style=\"color: #00af00; text-decoration-color: #00af00\">3</span>)                   │             <span style=\"color: #00af00; text-decoration-color: #00af00\">387</span> │\n",
       "└──────────────────────────────────────┴─────────────────────────────┴─────────────────┘\n",
       "</pre>\n"
      ],
      "text/plain": [
       "┏━━━━━━━━━━━━━━━━━━━━━━━━━━━━━━━━━━━━━━┳━━━━━━━━━━━━━━━━━━━━━━━━━━━━━┳━━━━━━━━━━━━━━━━━┓\n",
       "┃\u001b[1m \u001b[0m\u001b[1mLayer (type)                        \u001b[0m\u001b[1m \u001b[0m┃\u001b[1m \u001b[0m\u001b[1mOutput Shape               \u001b[0m\u001b[1m \u001b[0m┃\u001b[1m \u001b[0m\u001b[1m        Param #\u001b[0m\u001b[1m \u001b[0m┃\n",
       "┡━━━━━━━━━━━━━━━━━━━━━━━━━━━━━━━━━━━━━━╇━━━━━━━━━━━━━━━━━━━━━━━━━━━━━╇━━━━━━━━━━━━━━━━━┩\n",
       "│ conv1d_417 (\u001b[38;5;33mConv1D\u001b[0m)                  │ (\u001b[38;5;45mNone\u001b[0m, \u001b[38;5;34m296\u001b[0m, \u001b[38;5;34m128\u001b[0m)            │           \u001b[38;5;34m4,608\u001b[0m │\n",
       "├──────────────────────────────────────┼─────────────────────────────┼─────────────────┤\n",
       "│ batch_normalization_417              │ (\u001b[38;5;45mNone\u001b[0m, \u001b[38;5;34m296\u001b[0m, \u001b[38;5;34m128\u001b[0m)            │             \u001b[38;5;34m512\u001b[0m │\n",
       "│ (\u001b[38;5;33mBatchNormalization\u001b[0m)                 │                             │                 │\n",
       "├──────────────────────────────────────┼─────────────────────────────┼─────────────────┤\n",
       "│ spatial_dropout1d_278                │ (\u001b[38;5;45mNone\u001b[0m, \u001b[38;5;34m296\u001b[0m, \u001b[38;5;34m128\u001b[0m)            │               \u001b[38;5;34m0\u001b[0m │\n",
       "│ (\u001b[38;5;33mSpatialDropout1D\u001b[0m)                   │                             │                 │\n",
       "├──────────────────────────────────────┼─────────────────────────────┼─────────────────┤\n",
       "│ conv1d_418 (\u001b[38;5;33mConv1D\u001b[0m)                  │ (\u001b[38;5;45mNone\u001b[0m, \u001b[38;5;34m292\u001b[0m, \u001b[38;5;34m128\u001b[0m)            │          \u001b[38;5;34m82,048\u001b[0m │\n",
       "├──────────────────────────────────────┼─────────────────────────────┼─────────────────┤\n",
       "│ batch_normalization_418              │ (\u001b[38;5;45mNone\u001b[0m, \u001b[38;5;34m292\u001b[0m, \u001b[38;5;34m128\u001b[0m)            │             \u001b[38;5;34m512\u001b[0m │\n",
       "│ (\u001b[38;5;33mBatchNormalization\u001b[0m)                 │                             │                 │\n",
       "├──────────────────────────────────────┼─────────────────────────────┼─────────────────┤\n",
       "│ spatial_dropout1d_279                │ (\u001b[38;5;45mNone\u001b[0m, \u001b[38;5;34m292\u001b[0m, \u001b[38;5;34m128\u001b[0m)            │               \u001b[38;5;34m0\u001b[0m │\n",
       "│ (\u001b[38;5;33mSpatialDropout1D\u001b[0m)                   │                             │                 │\n",
       "├──────────────────────────────────────┼─────────────────────────────┼─────────────────┤\n",
       "│ conv1d_419 (\u001b[38;5;33mConv1D\u001b[0m)                  │ (\u001b[38;5;45mNone\u001b[0m, \u001b[38;5;34m288\u001b[0m, \u001b[38;5;34m128\u001b[0m)            │          \u001b[38;5;34m82,048\u001b[0m │\n",
       "├──────────────────────────────────────┼─────────────────────────────┼─────────────────┤\n",
       "│ global_average_pooling1d_139         │ (\u001b[38;5;45mNone\u001b[0m, \u001b[38;5;34m128\u001b[0m)                 │               \u001b[38;5;34m0\u001b[0m │\n",
       "│ (\u001b[38;5;33mGlobalAveragePooling1D\u001b[0m)             │                             │                 │\n",
       "├──────────────────────────────────────┼─────────────────────────────┼─────────────────┤\n",
       "│ batch_normalization_419              │ (\u001b[38;5;45mNone\u001b[0m, \u001b[38;5;34m128\u001b[0m)                 │             \u001b[38;5;34m512\u001b[0m │\n",
       "│ (\u001b[38;5;33mBatchNormalization\u001b[0m)                 │                             │                 │\n",
       "├──────────────────────────────────────┼─────────────────────────────┼─────────────────┤\n",
       "│ dropout_139 (\u001b[38;5;33mDropout\u001b[0m)                │ (\u001b[38;5;45mNone\u001b[0m, \u001b[38;5;34m128\u001b[0m)                 │               \u001b[38;5;34m0\u001b[0m │\n",
       "├──────────────────────────────────────┼─────────────────────────────┼─────────────────┤\n",
       "│ dense_278 (\u001b[38;5;33mDense\u001b[0m)                    │ (\u001b[38;5;45mNone\u001b[0m, \u001b[38;5;34m128\u001b[0m)                 │          \u001b[38;5;34m16,512\u001b[0m │\n",
       "├──────────────────────────────────────┼─────────────────────────────┼─────────────────┤\n",
       "│ dense_279 (\u001b[38;5;33mDense\u001b[0m)                    │ (\u001b[38;5;45mNone\u001b[0m, \u001b[38;5;34m3\u001b[0m)                   │             \u001b[38;5;34m387\u001b[0m │\n",
       "└──────────────────────────────────────┴─────────────────────────────┴─────────────────┘\n"
      ]
     },
     "metadata": {},
     "output_type": "display_data"
    },
    {
     "data": {
      "text/html": [
       "<pre style=\"white-space:pre;overflow-x:auto;line-height:normal;font-family:Menlo,'DejaVu Sans Mono',consolas,'Courier New',monospace\"><span style=\"font-weight: bold\"> Total params: </span><span style=\"color: #00af00; text-decoration-color: #00af00\">559,883</span> (2.14 MB)\n",
       "</pre>\n"
      ],
      "text/plain": [
       "\u001b[1m Total params: \u001b[0m\u001b[38;5;34m559,883\u001b[0m (2.14 MB)\n"
      ]
     },
     "metadata": {},
     "output_type": "display_data"
    },
    {
     "data": {
      "text/html": [
       "<pre style=\"white-space:pre;overflow-x:auto;line-height:normal;font-family:Menlo,'DejaVu Sans Mono',consolas,'Courier New',monospace\"><span style=\"font-weight: bold\"> Trainable params: </span><span style=\"color: #00af00; text-decoration-color: #00af00\">186,371</span> (728.01 KB)\n",
       "</pre>\n"
      ],
      "text/plain": [
       "\u001b[1m Trainable params: \u001b[0m\u001b[38;5;34m186,371\u001b[0m (728.01 KB)\n"
      ]
     },
     "metadata": {},
     "output_type": "display_data"
    },
    {
     "data": {
      "text/html": [
       "<pre style=\"white-space:pre;overflow-x:auto;line-height:normal;font-family:Menlo,'DejaVu Sans Mono',consolas,'Courier New',monospace\"><span style=\"font-weight: bold\"> Non-trainable params: </span><span style=\"color: #00af00; text-decoration-color: #00af00\">768</span> (3.00 KB)\n",
       "</pre>\n"
      ],
      "text/plain": [
       "\u001b[1m Non-trainable params: \u001b[0m\u001b[38;5;34m768\u001b[0m (3.00 KB)\n"
      ]
     },
     "metadata": {},
     "output_type": "display_data"
    },
    {
     "data": {
      "text/html": [
       "<pre style=\"white-space:pre;overflow-x:auto;line-height:normal;font-family:Menlo,'DejaVu Sans Mono',consolas,'Courier New',monospace\"><span style=\"font-weight: bold\"> Optimizer params: </span><span style=\"color: #00af00; text-decoration-color: #00af00\">372,744</span> (1.42 MB)\n",
       "</pre>\n"
      ],
      "text/plain": [
       "\u001b[1m Optimizer params: \u001b[0m\u001b[38;5;34m372,744\u001b[0m (1.42 MB)\n"
      ]
     },
     "metadata": {},
     "output_type": "display_data"
    }
   ],
   "source": [
    "new_model.summary()"
   ]
  },
  {
   "cell_type": "code",
   "execution_count": 88,
   "metadata": {
    "execution": {
     "iopub.execute_input": "2025-06-08T11:39:26.566438Z",
     "iopub.status.busy": "2025-06-08T11:39:26.566102Z",
     "iopub.status.idle": "2025-06-08T11:39:52.555365Z",
     "shell.execute_reply": "2025-06-08T11:39:52.554758Z",
     "shell.execute_reply.started": "2025-06-08T11:39:26.566414Z"
    },
    "trusted": true
   },
   "outputs": [
    {
     "name": "stdout",
     "output_type": "stream",
     "text": [
      "\u001b[1m80/80\u001b[0m \u001b[32m━━━━━━━━━━━━━━━━━━━━\u001b[0m\u001b[37m\u001b[0m \u001b[1m0s\u001b[0m 2ms/step\n"
     ]
    }
   ],
   "source": [
    "placement = experiment_by_placement[exp_placement][0]\n",
    "fields = experiment_by_placement[exp_placement][1]\n",
    "\n",
    "sets_train = experiment_by_dataset[exp_dataset]['sets_train']\n",
    "sets_test = experiment_by_dataset[exp_dataset]['sets_test']\n",
    "sides_train = experiment_by_dataset[exp_dataset]['sides_train']\n",
    "sides_test = experiment_by_dataset[exp_dataset]['sides_test']\n",
    "\n",
    "subsets = getSubSets(datasets.copy(), fields, data_class_labels)\n",
    "normalized_sets = getNormalizedDataMinMax(subsets, (-1,1)) # getNormalizedDataRobust(subsets)\n",
    "reshaped_sets, window_size = getReshapedData(normalized_sets, input_shape)\n",
    "input_train, input_validation, output_train, output_validation = getTrainValidationSets(reshaped_sets, sets_train, sets_test, sides_train, sides_test)\n",
    "del subsets, normalized_sets, reshaped_sets\n",
    "\n",
    "predictions = predictModel(new_model, input_validation)"
   ]
  },
  {
   "cell_type": "code",
   "execution_count": 89,
   "metadata": {
    "execution": {
     "iopub.execute_input": "2025-06-08T11:39:56.897754Z",
     "iopub.status.busy": "2025-06-08T11:39:56.897450Z",
     "iopub.status.idle": "2025-06-08T11:39:56.916698Z",
     "shell.execute_reply": "2025-06-08T11:39:56.915955Z",
     "shell.execute_reply.started": "2025-06-08T11:39:56.897734Z"
    },
    "trusted": true
   },
   "outputs": [
    {
     "data": {
      "text/html": [
       "<div>\n",
       "<style scoped>\n",
       "    .dataframe tbody tr th:only-of-type {\n",
       "        vertical-align: middle;\n",
       "    }\n",
       "\n",
       "    .dataframe tbody tr th {\n",
       "        vertical-align: top;\n",
       "    }\n",
       "\n",
       "    .dataframe thead th {\n",
       "        text-align: right;\n",
       "    }\n",
       "</style>\n",
       "<table border=\"1\" class=\"dataframe\">\n",
       "  <thead>\n",
       "    <tr style=\"text-align: right;\">\n",
       "      <th></th>\n",
       "      <th>precision</th>\n",
       "      <th>recall</th>\n",
       "      <th>f1-score</th>\n",
       "      <th>support</th>\n",
       "    </tr>\n",
       "  </thead>\n",
       "  <tbody>\n",
       "    <tr>\n",
       "      <th>Dirt Road</th>\n",
       "      <td>0.913777</td>\n",
       "      <td>0.976954</td>\n",
       "      <td>0.944310</td>\n",
       "      <td>998.000000</td>\n",
       "    </tr>\n",
       "    <tr>\n",
       "      <th>Cobblestone Road</th>\n",
       "      <td>0.907738</td>\n",
       "      <td>0.794271</td>\n",
       "      <td>0.847222</td>\n",
       "      <td>384.000000</td>\n",
       "    </tr>\n",
       "    <tr>\n",
       "      <th>Asphalt Road</th>\n",
       "      <td>0.991251</td>\n",
       "      <td>0.973368</td>\n",
       "      <td>0.982228</td>\n",
       "      <td>1164.000000</td>\n",
       "    </tr>\n",
       "    <tr>\n",
       "      <th>accuracy</th>\n",
       "      <td>0.947761</td>\n",
       "      <td>0.947761</td>\n",
       "      <td>0.947761</td>\n",
       "      <td>0.947761</td>\n",
       "    </tr>\n",
       "    <tr>\n",
       "      <th>macro avg</th>\n",
       "      <td>0.937589</td>\n",
       "      <td>0.914864</td>\n",
       "      <td>0.924587</td>\n",
       "      <td>2546.000000</td>\n",
       "    </tr>\n",
       "    <tr>\n",
       "      <th>weighted avg</th>\n",
       "      <td>0.948286</td>\n",
       "      <td>0.947761</td>\n",
       "      <td>0.947002</td>\n",
       "      <td>2546.000000</td>\n",
       "    </tr>\n",
       "  </tbody>\n",
       "</table>\n",
       "</div>"
      ],
      "text/plain": [
       "                  precision    recall  f1-score      support\n",
       "Dirt Road          0.913777  0.976954  0.944310   998.000000\n",
       "Cobblestone Road   0.907738  0.794271  0.847222   384.000000\n",
       "Asphalt Road       0.991251  0.973368  0.982228  1164.000000\n",
       "accuracy           0.947761  0.947761  0.947761     0.947761\n",
       "macro avg          0.937589  0.914864  0.924587  2546.000000\n",
       "weighted avg       0.948286  0.947761  0.947002  2546.000000"
      ]
     },
     "execution_count": 89,
     "metadata": {},
     "output_type": "execute_result"
    }
   ],
   "source": [
    "report = classification_report(output_validation.argmax(axis=1), predictions.argmax(axis=1), target_names=data_class_labels_plot, output_dict=True)\n",
    "pd.DataFrame(report).transpose()"
   ]
  },
  {
   "cell_type": "code",
   "execution_count": 90,
   "metadata": {
    "execution": {
     "iopub.execute_input": "2025-06-08T11:39:59.135463Z",
     "iopub.status.busy": "2025-06-08T11:39:59.134903Z",
     "iopub.status.idle": "2025-06-08T11:39:59.592960Z",
     "shell.execute_reply": "2025-06-08T11:39:59.592371Z",
     "shell.execute_reply.started": "2025-06-08T11:39:59.135430Z"
    },
    "trusted": true
   },
   "outputs": [
    {
     "data": {
      "image/png": "[encoded data removed]",
      "text/plain": [
       "<Figure size 600x600 with 2 Axes>"
      ]
     },
     "metadata": {},
     "output_type": "display_data"
    }
   ],
   "source": [
    "matrix = confusion_matrix(output_validation.argmax(axis=1), predictions.argmax(axis=1))\n",
    "plotConfusionMatrix(matrix, title)"
   ]
  },
  {
   "cell_type": "code",
   "execution_count": 36,
   "metadata": {
    "execution": {
     "iopub.execute_input": "2025-06-08T11:12:45.059634Z",
     "iopub.status.busy": "2025-06-08T11:12:45.058938Z",
     "iopub.status.idle": "2025-06-08T11:12:46.723838Z",
     "shell.execute_reply": "2025-06-08T11:12:46.723080Z",
     "shell.execute_reply.started": "2025-06-08T11:12:45.059614Z"
    },
    "executionInfo": {
     "elapsed": 1044,
     "status": "ok",
     "timestamp": 1613255168001,
     "user": {
      "displayName": "Jeferson Menegazzo",
      "photoUrl": "https://lh3.googleusercontent.com/a-/AOh14GhQawyEgOlmBHPaOoOT_loAbYF9XYcZK5PiYARmfg=s64",
      "userId": "12080988616245410525"
     },
     "user_tz": 180
    },
    "id": "ZXjuD0xrbWvo",
    "outputId": "34226725-10f9-4d6f-fca7-f62fc25d1c54",
    "trusted": true
   },
   "outputs": [
    {
     "name": "stdout",
     "output_type": "stream",
     "text": [
      "Train Data\n",
      "Loss 0.188593327999115\n",
      "Acc 0.9370163083076477\n"
     ]
    }
   ],
   "source": [
    "result = evaluateModel(model, input_train, output_train)\n",
    "print(\"Train Data\")\n",
    "print(\"Loss\", str(result[0]))\n",
    "print(\"Acc\", str(result[1]))"
   ]
  },
  {
   "cell_type": "code",
   "execution_count": 37,
   "metadata": {
    "execution": {
     "iopub.execute_input": "2025-06-08T11:12:49.073536Z",
     "iopub.status.busy": "2025-06-08T11:12:49.073240Z",
     "iopub.status.idle": "2025-06-08T11:12:49.563747Z",
     "shell.execute_reply": "2025-06-08T11:12:49.562943Z",
     "shell.execute_reply.started": "2025-06-08T11:12:49.073516Z"
    },
    "executionInfo": {
     "elapsed": 1355,
     "status": "ok",
     "timestamp": 1613255168323,
     "user": {
      "displayName": "Jeferson Menegazzo",
      "photoUrl": "https://lh3.googleusercontent.com/a-/AOh14GhQawyEgOlmBHPaOoOT_loAbYF9XYcZK5PiYARmfg=s64",
      "userId": "12080988616245410525"
     },
     "user_tz": 180
    },
    "id": "xJCAvwU_EkX_",
    "outputId": "851e9395-4536-425a-c64c-b1841cce7e7e",
    "trusted": true
   },
   "outputs": [
    {
     "name": "stdout",
     "output_type": "stream",
     "text": [
      "Validation Data\n",
      "Loss 0.21226313710212708\n",
      "Acc 0.9477611780166626\n"
     ]
    }
   ],
   "source": [
    "result = evaluateModel(model, input_validation, output_validation)\n",
    "print(\"Validation Data\")\n",
    "print(\"Loss\", str(result[0]))\n",
    "print(\"Acc\", str(result[1]))"
   ]
  },
  {
   "cell_type": "code",
   "execution_count": 103,
   "metadata": {
    "execution": {
     "iopub.execute_input": "2025-06-08T11:45:39.695700Z",
     "iopub.status.busy": "2025-06-08T11:45:39.695407Z",
     "iopub.status.idle": "2025-06-08T11:45:39.701291Z",
     "shell.execute_reply": "2025-06-08T11:45:39.700588Z",
     "shell.execute_reply.started": "2025-06-08T11:45:39.695680Z"
    },
    "trusted": true
   },
   "outputs": [
    {
     "data": {
      "text/plain": [
       "'/kaggle/working/./road-surface-classifier/final-trained-model-2.keras'"
      ]
     },
     "execution_count": 103,
     "metadata": {},
     "output_type": "execute_result"
    }
   ],
   "source": [
    "import shutil\n",
    "\n",
    "shutil.move(\"road_surface_model.keras\", f\"{repo.local_dir}/final-trained-model-2.keras\")"
   ]
  },
  {
   "cell_type": "code",
   "execution_count": 104,
   "metadata": {
    "execution": {
     "iopub.execute_input": "2025-06-08T11:45:42.392853Z",
     "iopub.status.busy": "2025-06-08T11:45:42.392573Z",
     "iopub.status.idle": "2025-06-08T11:45:44.553942Z",
     "shell.execute_reply": "2025-06-08T11:45:44.553153Z",
     "shell.execute_reply.started": "2025-06-08T11:45:42.392835Z"
    },
    "trusted": true
   },
   "outputs": [
    {
     "name": "stderr",
     "output_type": "stream",
     "text": [
      "Adding files tracked by Git LFS: ['final-trained-model-2.keras']. This may take a bit of time if the files are large.\n",
      "To https://huggingface.co/aryaash/road-surface-classifier\n",
      "   8d69bcb..0f308db  main -> main\n",
      "\n"
     ]
    },
    {
     "data": {
      "text/plain": [
       "'https://huggingface.co/aryaash/road-surface-classifier/commit/0f308db8e845eebe4b9c12b6ffe46d53ab5c2678'"
      ]
     },
     "execution_count": 104,
     "metadata": {},
     "output_type": "execute_result"
    }
   ],
   "source": [
    "repo.push_to_hub(commit_message=\"Upload road surface type classifier\")"
   ]
  },
  {
   "cell_type": "code",
   "execution_count": 105,
   "metadata": {
    "execution": {
     "iopub.execute_input": "2025-06-08T11:46:44.417561Z",
     "iopub.status.busy": "2025-06-08T11:46:44.416925Z",
     "iopub.status.idle": "2025-06-08T11:46:44.628011Z",
     "shell.execute_reply": "2025-06-08T11:46:44.627168Z",
     "shell.execute_reply.started": "2025-06-08T11:46:44.417538Z"
    },
    "trusted": true
   },
   "outputs": [
    {
     "name": "stderr",
     "output_type": "stream",
     "text": [
      "/usr/local/lib/python3.11/dist-packages/keras/src/saving/saving_lib.py:757: UserWarning: Skipping variable loading for optimizer 'adam', because it has 34 variables whereas the saved optimizer has 2 variables. \n",
      "  saveable.load_own_variables(weights_store.get(inner_path))\n"
     ]
    }
   ],
   "source": [
    "testing_model = load_model(\"/kaggle/input/test/keras/default/1/final-trained-model-2.keras\")"
   ]
  },
  {
   "cell_type": "code",
   "execution_count": 106,
   "metadata": {
    "execution": {
     "iopub.execute_input": "2025-06-08T11:47:13.104592Z",
     "iopub.status.busy": "2025-06-08T11:47:13.104286Z",
     "iopub.status.idle": "2025-06-08T11:47:39.880577Z",
     "shell.execute_reply": "2025-06-08T11:47:39.879891Z",
     "shell.execute_reply.started": "2025-06-08T11:47:13.104572Z"
    },
    "trusted": true
   },
   "outputs": [
    {
     "name": "stdout",
     "output_type": "stream",
     "text": [
      "\u001b[1m80/80\u001b[0m \u001b[32m━━━━━━━━━━━━━━━━━━━━\u001b[0m\u001b[37m\u001b[0m \u001b[1m1s\u001b[0m 6ms/step\n"
     ]
    }
   ],
   "source": [
    "placement = experiment_by_placement[exp_placement][0]\n",
    "fields = experiment_by_placement[exp_placement][1]\n",
    "\n",
    "sets_train = experiment_by_dataset[exp_dataset]['sets_train']\n",
    "sets_test = experiment_by_dataset[exp_dataset]['sets_test']\n",
    "sides_train = experiment_by_dataset[exp_dataset]['sides_train']\n",
    "sides_test = experiment_by_dataset[exp_dataset]['sides_test']\n",
    "\n",
    "subsets = getSubSets(datasets.copy(), fields, data_class_labels)\n",
    "normalized_sets = getNormalizedDataMinMax(subsets, (-1,1)) # getNormalizedDataRobust(subsets)\n",
    "reshaped_sets, window_size = getReshapedData(normalized_sets, input_shape)\n",
    "input_train, input_validation, output_train, output_validation = getTrainValidationSets(reshaped_sets, sets_train, sets_test, sides_train, sides_test)\n",
    "del subsets, normalized_sets, reshaped_sets\n",
    "\n",
    "predictions = predictModel(testing_model, input_validation)"
   ]
  },
  {
   "cell_type": "code",
   "execution_count": 107,
   "metadata": {
    "execution": {
     "iopub.execute_input": "2025-06-08T11:47:43.158685Z",
     "iopub.status.busy": "2025-06-08T11:47:43.158422Z",
     "iopub.status.idle": "2025-06-08T11:47:43.178671Z",
     "shell.execute_reply": "2025-06-08T11:47:43.177826Z",
     "shell.execute_reply.started": "2025-06-08T11:47:43.158668Z"
    },
    "trusted": true
   },
   "outputs": [
    {
     "data": {
      "text/html": [
       "<div>\n",
       "<style scoped>\n",
       "    .dataframe tbody tr th:only-of-type {\n",
       "        vertical-align: middle;\n",
       "    }\n",
       "\n",
       "    .dataframe tbody tr th {\n",
       "        vertical-align: top;\n",
       "    }\n",
       "\n",
       "    .dataframe thead th {\n",
       "        text-align: right;\n",
       "    }\n",
       "</style>\n",
       "<table border=\"1\" class=\"dataframe\">\n",
       "  <thead>\n",
       "    <tr style=\"text-align: right;\">\n",
       "      <th></th>\n",
       "      <th>precision</th>\n",
       "      <th>recall</th>\n",
       "      <th>f1-score</th>\n",
       "      <th>support</th>\n",
       "    </tr>\n",
       "  </thead>\n",
       "  <tbody>\n",
       "    <tr>\n",
       "      <th>Dirt Road</th>\n",
       "      <td>0.913777</td>\n",
       "      <td>0.976954</td>\n",
       "      <td>0.944310</td>\n",
       "      <td>998.000000</td>\n",
       "    </tr>\n",
       "    <tr>\n",
       "      <th>Cobblestone Road</th>\n",
       "      <td>0.907738</td>\n",
       "      <td>0.794271</td>\n",
       "      <td>0.847222</td>\n",
       "      <td>384.000000</td>\n",
       "    </tr>\n",
       "    <tr>\n",
       "      <th>Asphalt Road</th>\n",
       "      <td>0.991251</td>\n",
       "      <td>0.973368</td>\n",
       "      <td>0.982228</td>\n",
       "      <td>1164.000000</td>\n",
       "    </tr>\n",
       "    <tr>\n",
       "      <th>accuracy</th>\n",
       "      <td>0.947761</td>\n",
       "      <td>0.947761</td>\n",
       "      <td>0.947761</td>\n",
       "      <td>0.947761</td>\n",
       "    </tr>\n",
       "    <tr>\n",
       "      <th>macro avg</th>\n",
       "      <td>0.937589</td>\n",
       "      <td>0.914864</td>\n",
       "      <td>0.924587</td>\n",
       "      <td>2546.000000</td>\n",
       "    </tr>\n",
       "    <tr>\n",
       "      <th>weighted avg</th>\n",
       "      <td>0.948286</td>\n",
       "      <td>0.947761</td>\n",
       "      <td>0.947002</td>\n",
       "      <td>2546.000000</td>\n",
       "    </tr>\n",
       "  </tbody>\n",
       "</table>\n",
       "</div>"
      ],
      "text/plain": [
       "                  precision    recall  f1-score      support\n",
       "Dirt Road          0.913777  0.976954  0.944310   998.000000\n",
       "Cobblestone Road   0.907738  0.794271  0.847222   384.000000\n",
       "Asphalt Road       0.991251  0.973368  0.982228  1164.000000\n",
       "accuracy           0.947761  0.947761  0.947761     0.947761\n",
       "macro avg          0.937589  0.914864  0.924587  2546.000000\n",
       "weighted avg       0.948286  0.947761  0.947002  2546.000000"
      ]
     },
     "execution_count": 107,
     "metadata": {},
     "output_type": "execute_result"
    }
   ],
   "source": [
    "report = classification_report(output_validation.argmax(axis=1), predictions.argmax(axis=1), target_names=data_class_labels_plot, output_dict=True)\n",
    "pd.DataFrame(report).transpose()"
   ]
  }
 ],
 "metadata": {
  "kaggle": {
   "accelerator": "gpu",
   "dataSources": [
    {
     "datasetId": 1105310,
     "sourceId": 1885308,
     "sourceType": "datasetVersion"
    },
    {
     "isSourceIdPinned": true,
     "modelId": 370691,
     "modelInstanceId": 349430,
     "sourceId": 428676,
     "sourceType": "modelInstanceVersion"
    },
    {
     "isSourceIdPinned": true,
     "modelId": 370697,
     "modelInstanceId": 349436,
     "sourceId": 428682,
     "sourceType": "modelInstanceVersion"
    }
   ],
   "isGpuEnabled": true,
   "isInternetEnabled": true,
   "language": "python",
   "sourceType": "notebook"
  },
  "kernelspec": {
   "display_name": "Python 3",
   "language": "python",
   "name": "python3"
  },
  "language_info": {
   "codemirror_mode": {
    "name": "ipython",
    "version": 3
   },
   "file_extension": ".py",
   "mimetype": "text/x-python",
   "name": "python",
   "nbconvert_exporter": "python",
   "pygments_lexer": "ipython3",
   "version": "3.11.11"
  }
 },
 "nbformat": 4,
 "nbformat_minor": 4
}
